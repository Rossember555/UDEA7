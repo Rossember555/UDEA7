{
 "cells": [
  {
   "cell_type": "markdown",
   "metadata": {},
   "source": [
    "# Text processing"
   ]
  },
  {
   "cell_type": "code",
   "execution_count": null,
   "metadata": {},
   "outputs": [],
   "source": [
    "!wget --no-cache -O init.py -q https://raw.githubusercontent.com/rramosp/2020.deeplearning/master/init.py\n",
    "from init import init; init(force_download=False)"
   ]
  },
  {
   "cell_type": "code",
   "execution_count": null,
   "metadata": {},
   "outputs": [],
   "source": [
    "import sys\n",
    "if 'google.colab' in sys.modules:\n",
    "    print (\"setting tensorflow version in colab\")\n",
    "    %tensorflow_version 2.x\n",
    "import tensorflow as tf\n",
    "tf.__version__"
   ]
  },
  {
   "cell_type": "code",
   "execution_count": 1,
   "metadata": {},
   "outputs": [],
   "source": [
    "import numpy as np\n",
    "import matplotlib.pyplot as plt\n",
    "%matplotlib inline"
   ]
  },
  {
   "cell_type": "markdown",
   "metadata": {},
   "source": [
    "There exists several applications that require the processing of text, e.g. machine translation, sentiment analysis, semantic word similarity, part of speech tagging, to name just a few. However, in order to solve those problems, the text needs to be transformed into something that can be understood by the models. In the following some of the basic preprocessing steps that must be applied to text are going to be presented."
   ]
  },
  {
   "cell_type": "markdown",
   "metadata": {},
   "source": [
    "Natural Language Toolkit\n",
    "https://www.nltk.org/index.html\n",
    "\n",
    "NLTK is a platform for building Python programs to work with human language data. It provides easy-to-use interfaces to over 50 corpora and lexical resources such as WordNet, along with a suite of text processing libraries for classification, tokenization, stemming, tagging, parsing, and semantic reasoning."
   ]
  },
  {
   "cell_type": "markdown",
   "metadata": {},
   "source": [
    "## Tokenization"
   ]
  },
  {
   "cell_type": "markdown",
   "metadata": {},
   "source": [
    "This process assigns a unique number to every word (or character) in the dataset. Tokenization requires to set up the maximum number of fatures or words to be included in the tokenizer.  "
   ]
  },
  {
   "cell_type": "code",
   "execution_count": 2,
   "metadata": {},
   "outputs": [
    {
     "name": "stderr",
     "output_type": "stream",
     "text": [
      "[nltk_data] Downloading package punkt to /home/julian/nltk_data...\n",
      "[nltk_data]   Package punkt is already up-to-date!\n"
     ]
    },
    {
     "data": {
      "text/plain": [
       "['ejemplo', 'de', 'texto', 'a', 'ser', 'procesado']"
      ]
     },
     "execution_count": 2,
     "metadata": {},
     "output_type": "execute_result"
    }
   ],
   "source": [
    "import nltk\n",
    "nltk.download('punkt')\n",
    "from nltk import word_tokenize \n",
    "\n",
    "text = 'ejemplo de texto a ser procesado'\n",
    "word_tokenize(text)"
   ]
  },
  {
   "cell_type": "code",
   "execution_count": 3,
   "metadata": {},
   "outputs": [
    {
     "name": "stdout",
     "output_type": "stream",
     "text": [
      "['ejemplo de texto a ser procesado']\n",
      "[[1, 2, 3, 4, 5, 6]]\n"
     ]
    }
   ],
   "source": [
    "from tensorflow.keras.preprocessing.text import Tokenizer\n",
    "\n",
    "max_fatures = 8\n",
    "tokenizer = Tokenizer(num_words=max_fatures, split=' ')\n",
    "tokenizer.fit_on_texts([text])\n",
    "X = tokenizer.texts_to_sequences([text])\n",
    "print([text])\n",
    "print(X)"
   ]
  },
  {
   "cell_type": "code",
   "execution_count": 4,
   "metadata": {},
   "outputs": [
    {
     "data": {
      "text/plain": [
       "{'ejemplo': 1, 'de': 2, 'texto': 3, 'a': 4, 'ser': 5, 'procesado': 6}"
      ]
     },
     "execution_count": 4,
     "metadata": {},
     "output_type": "execute_result"
    }
   ],
   "source": [
    "#Dictionary\n",
    "tokenizer.word_index"
   ]
  },
  {
   "cell_type": "markdown",
   "metadata": {},
   "source": [
    "If there are more unique words in the text than **num_words**, only the most frequent ones are given a unique token."
   ]
  },
  {
   "cell_type": "markdown",
   "metadata": {},
   "source": [
    "## Depending on the task, it may be necessary to eliminate some words such as prepositions"
   ]
  },
  {
   "cell_type": "code",
   "execution_count": 5,
   "metadata": {},
   "outputs": [
    {
     "name": "stderr",
     "output_type": "stream",
     "text": [
      "[nltk_data] Downloading package stopwords to /home/julian/nltk_data...\n",
      "[nltk_data]   Package stopwords is already up-to-date!\n"
     ]
    }
   ],
   "source": [
    "nltk.download('stopwords')\n",
    "stopwords = nltk.corpus.stopwords.words('spanish')"
   ]
  },
  {
   "cell_type": "code",
   "execution_count": 6,
   "metadata": {},
   "outputs": [
    {
     "name": "stdout",
     "output_type": "stream",
     "text": [
      "['ejemplo', 'texto', 'ser', 'procesado']\n"
     ]
    }
   ],
   "source": [
    "def tokenize_only(text):\n",
    "    # first tokenize by sentence, then by word to ensure that punctuation is caught as it's own token\n",
    "    tokens = [word.lower() for word in nltk.word_tokenize(text) if word not in stopwords]\n",
    "    return tokens\n",
    "print(tokenize_only(text))"
   ]
  },
  {
   "cell_type": "markdown",
   "metadata": {},
   "source": [
    "# Document representations"
   ]
  },
  {
   "cell_type": "markdown",
   "metadata": {},
   "source": [
    "## Bag of words"
   ]
  },
  {
   "cell_type": "markdown",
   "metadata": {},
   "source": [
    "The most basic representation of a document is based on a One-hot encoding of the tokenized text. In other words, every text is represented as a vector of 0's and only one '1' in the position given by the index of the words in te text, according to the ones assigned during tokenization. The length of the vector corresponds to the parameter **num_words**, which is the size of the dictionary. "
   ]
  },
  {
   "cell_type": "markdown",
   "metadata": {},
   "source": [
    "Based on a bag of words representation a whole paragraph or document could be codified as a vector of num_words positions, where the position $i$ accounts for the number of times that the word $i$ appeared in the text. Usually, such vector is normalized with respecto the number of words in the text, this is call *term-frecuency* representation. However, it is more common to use the tf-idf representetation."
   ]
  },
  {
   "cell_type": "code",
   "execution_count": 7,
   "metadata": {},
   "outputs": [
    {
     "name": "stdout",
     "output_type": "stream",
     "text": [
      "CPU times: user 1.19 ms, sys: 683 µs, total: 1.87 ms\n",
      "Wall time: 5.02 ms\n",
      "(3, 18)\n"
     ]
    },
    {
     "data": {
      "text/plain": [
       "array([[0, 0, 0, 1, 1, 0, 0, 0, 0, 0, 1, 0, 0, 0, 0, 1, 0, 1],\n",
       "       [1, 1, 0, 0, 0, 2, 1, 0, 1, 0, 0, 1, 1, 0, 0, 1, 0, 0],\n",
       "       [1, 0, 1, 0, 0, 1, 0, 1, 0, 1, 0, 0, 0, 1, 1, 0, 1, 0]])"
      ]
     },
     "execution_count": 7,
     "metadata": {},
     "output_type": "execute_result"
    }
   ],
   "source": [
    "from sklearn.feature_extraction.text import CountVectorizer\n",
    "\n",
    "synopses = []\n",
    "synopses.append('ejemplo de texto a ser procesado')\n",
    "synopses.append('algunos ejemplos puenden ser más complejos que otros ejemplos')\n",
    "synopses.append('No se si sea posible dar algunos ejemplos')\n",
    "\n",
    "#define vectorizer parameters\n",
    "count_vectorizer = CountVectorizer(max_df=0.9, max_features=200,\n",
    "                                 min_df=0.1)\n",
    "\n",
    "%time count_matrix = count_vectorizer.fit_transform(synopses) #fit the vectorizer to synopses\n",
    "\n",
    "print(count_matrix.shape)\n",
    "count_matrix.toarray()"
   ]
  },
  {
   "cell_type": "code",
   "execution_count": 8,
   "metadata": {},
   "outputs": [
    {
     "data": {
      "text/plain": [
       "['algunos',\n",
       " 'complejos',\n",
       " 'dar',\n",
       " 'de',\n",
       " 'ejemplo',\n",
       " 'ejemplos',\n",
       " 'más',\n",
       " 'no',\n",
       " 'otros',\n",
       " 'posible',\n",
       " 'procesado',\n",
       " 'puenden',\n",
       " 'que',\n",
       " 'se',\n",
       " 'sea',\n",
       " 'ser',\n",
       " 'si',\n",
       " 'texto']"
      ]
     },
     "execution_count": 8,
     "metadata": {},
     "output_type": "execute_result"
    }
   ],
   "source": [
    "count_vectorizer.get_feature_names()"
   ]
  },
  {
   "cell_type": "markdown",
   "metadata": {},
   "source": [
    "## Stemming"
   ]
  },
  {
   "cell_type": "code",
   "execution_count": 9,
   "metadata": {},
   "outputs": [
    {
     "data": {
      "text/plain": [
       "['algun',\n",
       " 'complej',\n",
       " 'dar',\n",
       " 'de',\n",
       " 'ejempl',\n",
       " 'mas',\n",
       " 'no',\n",
       " 'otros',\n",
       " 'posibl',\n",
       " 'proces',\n",
       " 'puend',\n",
       " 'que',\n",
       " 'se',\n",
       " 'sea',\n",
       " 'ser',\n",
       " 'si',\n",
       " 'text']"
      ]
     },
     "execution_count": 9,
     "metadata": {},
     "output_type": "execute_result"
    }
   ],
   "source": [
    "from nltk.stem import SnowballStemmer\n",
    "stemmer = SnowballStemmer('spanish')\n",
    "synopsesStem = []\n",
    "for sentence in synopses:\n",
    "     synopsesStem.append(\" \".join([stemmer.stem(word) for word in sentence.split()]))\n",
    "#define vectorizer parameters\n",
    "count_vectorizer = CountVectorizer(max_df=1.0, max_features=200,\n",
    "                                 min_df=0.1)\n",
    "\n",
    "count_matrix = count_vectorizer.fit_transform(synopsesStem) #fit the vectorizer to synopses\n",
    "count_vectorizer.get_feature_names()"
   ]
  },
  {
   "cell_type": "code",
   "execution_count": 10,
   "metadata": {},
   "outputs": [
    {
     "name": "stdout",
     "output_type": "stream",
     "text": [
      "(3, 17)\n"
     ]
    },
    {
     "data": {
      "text/plain": [
       "array([[0, 0, 0, 1, 1, 0, 0, 0, 0, 1, 0, 0, 0, 0, 1, 0, 1],\n",
       "       [1, 1, 0, 0, 2, 1, 0, 1, 0, 0, 1, 1, 0, 0, 1, 0, 0],\n",
       "       [1, 0, 1, 0, 1, 0, 1, 0, 1, 0, 0, 0, 1, 1, 0, 1, 0]])"
      ]
     },
     "execution_count": 10,
     "metadata": {},
     "output_type": "execute_result"
    }
   ],
   "source": [
    "print(count_matrix.shape)\n",
    "count_matrix.toarray()"
   ]
  },
  {
   "cell_type": "markdown",
   "metadata": {},
   "source": [
    "This provides a matrix with a row per document and a column per word in the dictionary. The position [$i$, $j$] corresponds to the number of times the word $j$ appeared in the document $i$.  "
   ]
  },
  {
   "cell_type": "markdown",
   "metadata": {},
   "source": [
    "**Home work**: [Read about the difference between steeming and lemmatization](https://blog.bitext.com/what-is-the-difference-between-stemming-and-lemmatization/)"
   ]
  },
  {
   "cell_type": "markdown",
   "metadata": {},
   "source": [
    "## tf-idf representation"
   ]
  },
  {
   "cell_type": "markdown",
   "metadata": {},
   "source": [
    "This stands for term frequency and inverse document frequency. The tf-idf weighting scheme assigns to term $t$ a weight in document $d$ given by\n",
    "\n",
    "$$\n",
    "\\mbox{tf-idf}_{t,d} = \\mbox{tf}_{t,d} \\times \\mbox{idf}_t.$$"
   ]
  },
  {
   "cell_type": "markdown",
   "metadata": {},
   "source": [
    "**Term Frequency (tf)**: gives us the frequency of the word in each document in the corpus. It is the ratio of number of times the word appears in a document compared to the total number of words in that document. It increases as the number of occurrences of that word within the document increases. Each document has its own tf.\n",
    "\n",
    "$$\\mbox{tf}_{t,d} = \\frac{n_{t,d}}{\\sum_k n_{k,d}} $$\n",
    "\n",
    "**Inverse Data Frequency (idf)**: used to calculate the weight of rare words across all documents in the corpus. The words that occur rarely in the corpus have a high IDF score. It is given by the equation below.\n",
    "\n",
    "$$\\mbox{idf}_{t} = \\log\\left(\\frac{N}{df_t}\\right) + 1; \\; df_t = \\text{number of documents contaning } t $$"
   ]
  },
  {
   "cell_type": "markdown",
   "metadata": {},
   "source": [
    "In other words, $\\mbox{tf-idf}_{t,d}$ assigns to term $t$ a weight in document $d$ that is\n",
    "\n",
    "- highest when $t$ occurs many times within a small number of documents (thus lending high discriminating power to those documents);\n",
    "- lower when the term occurs fewer times in a document, or occurs in many documents (thus offering a less pronounced relevance signal);\n",
    "\n",
    "- lowest when the term occurs in virtually all documents."
   ]
  },
  {
   "cell_type": "code",
   "execution_count": 11,
   "metadata": {},
   "outputs": [
    {
     "name": "stdout",
     "output_type": "stream",
     "text": [
      "CPU times: user 23.6 ms, sys: 0 ns, total: 23.6 ms\n",
      "Wall time: 24.4 ms\n",
      "(3, 33)\n",
      "  (0, 32)\t0.35517252025437435\n",
      "  (0, 12)\t0.35517252025437435\n",
      "  (0, 26)\t0.35517252025437435\n",
      "  (0, 31)\t0.35517252025437435\n",
      "  (0, 11)\t0.35517252025437435\n",
      "  (0, 19)\t0.35517252025437435\n",
      "  (0, 23)\t0.2701178563861315\n",
      "  (0, 30)\t0.35517252025437435\n",
      "  (0, 8)\t0.20977061198951072\n",
      "  (1, 15)\t0.24898660220691754\n",
      "  (1, 25)\t0.24898660220691754\n",
      "  (1, 22)\t0.24898660220691754\n",
      "  (1, 10)\t0.24898660220691754\n",
      "  (1, 2)\t0.24898660220691754\n",
      "  (1, 4)\t0.24898660220691754\n",
      "  (1, 14)\t0.24898660220691754\n",
      "  (1, 24)\t0.24898660220691754\n",
      "  (1, 21)\t0.24898660220691754\n",
      "  (1, 9)\t0.24898660220691754\n",
      "  (1, 1)\t0.1893607287208777\n",
      "  (1, 3)\t0.24898660220691754\n",
      "  (1, 13)\t0.24898660220691754\n",
      "  (1, 20)\t0.24898660220691754\n",
      "  (1, 0)\t0.1893607287208777\n",
      "  (1, 23)\t0.1893607287208777\n",
      "  (1, 8)\t0.2941109964516782\n",
      "  (2, 7)\t0.3085240515440934\n",
      "  (2, 18)\t0.3085240515440934\n",
      "  (2, 29)\t0.3085240515440934\n",
      "  (2, 6)\t0.3085240515440934\n",
      "  (2, 17)\t0.3085240515440934\n",
      "  (2, 28)\t0.3085240515440934\n",
      "  (2, 5)\t0.3085240515440934\n",
      "  (2, 16)\t0.3085240515440934\n",
      "  (2, 27)\t0.3085240515440934\n",
      "  (2, 1)\t0.23464049354653999\n",
      "  (2, 0)\t0.23464049354653999\n",
      "  (2, 8)\t0.1822192749020558\n"
     ]
    }
   ],
   "source": [
    "from sklearn.feature_extraction.text import TfidfVectorizer\n",
    "\n",
    "#define vectorizer parameters\n",
    "tfidf_vectorizer = TfidfVectorizer(max_df=1.0, max_features=200,\n",
    "                                 min_df=0.1, stop_words=stopwords,\n",
    "                                 use_idf=True, tokenizer= word_tokenize, ngram_range=(1,3))\n",
    "\n",
    "%time tfidf_matrix = tfidf_vectorizer.fit_transform(synopsesStem) #fit the vectorizer to synopses\n",
    "\n",
    "print(tfidf_matrix.shape)\n",
    "print(tfidf_matrix)"
   ]
  },
  {
   "cell_type": "code",
   "execution_count": 12,
   "metadata": {},
   "outputs": [
    {
     "name": "stdout",
     "output_type": "stream",
     "text": [
      "{'algun': 1.2876820724517808, 'algun ejempl': 1.2876820724517808, 'algun ejempl puend': 1.6931471805599454, 'complej': 1.6931471805599454, 'complej ejempl': 1.6931471805599454, 'dar': 1.6931471805599454, 'dar algun': 1.6931471805599454, 'dar algun ejempl': 1.6931471805599454, 'ejempl': 1.0, 'ejempl puend': 1.6931471805599454, 'ejempl puend ser': 1.6931471805599454, 'ejempl text': 1.6931471805599454, 'ejempl text ser': 1.6931471805599454, 'mas': 1.6931471805599454, 'mas complej': 1.6931471805599454, 'mas complej ejempl': 1.6931471805599454, 'posibl': 1.6931471805599454, 'posibl dar': 1.6931471805599454, 'posibl dar algun': 1.6931471805599454, 'proces': 1.6931471805599454, 'puend': 1.6931471805599454, 'puend ser': 1.6931471805599454, 'puend ser mas': 1.6931471805599454, 'ser': 1.2876820724517808, 'ser mas': 1.6931471805599454, 'ser mas complej': 1.6931471805599454, 'ser proces': 1.6931471805599454, 'si': 1.6931471805599454, 'si posibl': 1.6931471805599454, 'si posibl dar': 1.6931471805599454, 'text': 1.6931471805599454, 'text ser': 1.6931471805599454, 'text ser proces': 1.6931471805599454}\n"
     ]
    }
   ],
   "source": [
    "print(dict(zip(tfidf_vectorizer.get_feature_names(), tfidf_vectorizer.idf_)))"
   ]
  },
  {
   "cell_type": "markdown",
   "metadata": {},
   "source": [
    "# Word embeddings"
   ]
  },
  {
   "cell_type": "markdown",
   "metadata": {},
   "source": [
    "## word2vec"
   ]
  },
  {
   "cell_type": "markdown",
   "metadata": {},
   "source": [
    "There exist several alternatives to represent the words in a different way. In most of the cases, those techniques try to take advantage on the semantic similarity of the words. Such similarity can be sintacmatic or paradigmatic. Paradigmatic similarity refers to the interchange of words. On the other hand, sintacmatic similarity refers to co-ocurrence.\n",
    "\n",
    "Two of the most used techniques are based on Neural Network representations:\n",
    "\n",
    "- **skip-gram** model: This architecture is designed to predict the context given a word\n",
    "\n",
    "- **Continuous Bag of Words (CBOW)**: The CBOW model architecture tries to predict the current target word (the center word) based on the source context words (surrounding words).\n",
    "\n",
    "According to Mikolov (https://arxiv.org/pdf/1310.4546.pdf):\n",
    "\n",
    "Skip-gram: works well with small amount of the training data, represents well even rare words or phrases.\n",
    "\n",
    "CBOW: several times faster to train than the skip-gram, slightly better accuracy for the frequent words"
   ]
  },
  {
   "cell_type": "code",
   "execution_count": 31,
   "metadata": {},
   "outputs": [
    {
     "data": {
      "image/png": "[encoded data removed]",
      "text/plain": [
       "<IPython.core.display.Image object>"
      ]
     },
     "execution_count": 31,
     "metadata": {
      "image/png": {
       "width": 800
      }
     },
     "output_type": "execute_result"
    }
   ],
   "source": [
    "from IPython.display import Image, display\n",
    "Image(filename='local/imgs/word2vec.png', width=800)\n",
    "#![alt text](local/imgs/word2vec.png \"skipgram\")"
   ]
  },
  {
   "cell_type": "markdown",
   "metadata": {},
   "source": [
    "One of the problems with word2vec architecture is the large number of outputs, which increases a lot the computational cost. In order to tackle this problem, there are two approaches:\n",
    "\n",
    "- **Hierarchical softmax**: This use a binary tree to represent the probabilities of the words at the output layer an reduces the computational cost logarithmically. The output layer is replaced by sigmoid functions representing the decision in every node of the tree.\n",
    "\n",
    "https://www.iro.umontreal.ca/~lisa/pointeurs/hierarchical-nnlm-aistats05.pdf\n",
    "\n",
    "\n",
    "- **Negative sampling**: Negative sampling addresses the computational problem by having each training sample only modify a small percentage of the weights, rather than all of them. \n",
    "\n",
    "https://arxiv.org/pdf/1310.4546.pdf"
   ]
  },
  {
   "cell_type": "code",
   "execution_count": 33,
   "metadata": {},
   "outputs": [
    {
     "data": {
      "image/png": "[encoded data removed]",
      "text/plain": [
       "<IPython.core.display.Image object>"
      ]
     },
     "metadata": {
      "image/png": {
       "width": 600
      }
     },
     "output_type": "display_data"
    },
    {
     "data": {
      "image/png": "[encoded data removed]",
      "text/plain": [
       "<IPython.core.display.Image object>"
      ]
     },
     "metadata": {
      "image/png": {
       "width": 600
      }
     },
     "output_type": "display_data"
    }
   ],
   "source": [
    "A = Image(filename='local/imgs/Softmax.png', width=600)\n",
    "B = Image(filename='local/imgs/HSoftmax.png', width=600)\n",
    "display(A, B)"
   ]
  },
  {
   "cell_type": "markdown",
   "metadata": {},
   "source": [
    "[Image taken from here](https://medium.com/@ionejunhong/my-machine-learning-diary-day-78-c36d602ca9bf)"
   ]
  },
  {
   "cell_type": "code",
   "execution_count": 13,
   "metadata": {},
   "outputs": [],
   "source": [
    "import bs4 as bs  \n",
    "import urllib.request\n",
    "import re  \n",
    "import nltk\n",
    "\n",
    "scrapped_data = urllib.request.urlopen('https://en.wikipedia.org/wiki/Artificial_intelligence')  \n",
    "article = scrapped_data.read()\n",
    "\n",
    "parsed_article = bs.BeautifulSoup(article,'lxml')\n",
    "\n",
    "paragraphs = parsed_article.find_all('p')\n",
    "\n",
    "article_text = \"\"\n",
    "\n",
    "for p in paragraphs:  \n",
    "    article_text += p.text"
   ]
  },
  {
   "cell_type": "code",
   "execution_count": 14,
   "metadata": {},
   "outputs": [],
   "source": [
    "# Cleaing the text\n",
    "processed_article = article_text.lower()  \n",
    "processed_article = re.sub('[^a-zA-Z]', ' ', processed_article )  \n",
    "processed_article = re.sub(r'\\s+', ' ', processed_article)\n",
    "\n",
    "# Preparing the dataset\n",
    "all_sentences = nltk.sent_tokenize(processed_article)\n",
    "\n",
    "all_words = [nltk.word_tokenize(sent) for sent in all_sentences]\n",
    "\n",
    "# Removing Stop Words\n",
    "from nltk.corpus import stopwords\n",
    "for i in range(len(all_words)):  \n",
    "    all_words[i] = [w for w in all_words[i] if w not in stopwords.words('english')]"
   ]
  },
  {
   "cell_type": "code",
   "execution_count": 31,
   "metadata": {},
   "outputs": [],
   "source": [
    "tokenizer = Tokenizer(num_words=np.unique(all_words[0]).shape[0], split=' ')\n",
    "tokenizer.fit_on_texts([all_words[0]])"
   ]
  },
  {
   "cell_type": "code",
   "execution_count": 15,
   "metadata": {},
   "outputs": [],
   "source": [
    "TerminosDeInteres = ['ai','artificial','intelligence', 'statistics', 'economics', 'mathematics','data', 'scientific', 'reinforcement','learning','mining','processing']\n",
    "from sklearn.feature_extraction.text import CountVectorizer\n",
    "\n",
    "#define vectorizer parameters\n",
    "count_vectorizer = CountVectorizer(max_df=1.0, max_features=200000,\n",
    "                                 min_df=0.1, vocabulary = TerminosDeInteres)\n",
    "\n",
    "count_matrix = count_vectorizer.fit_transform(all_sentences) #fit the vectorizer to synopses"
   ]
  },
  {
   "cell_type": "code",
   "execution_count": 16,
   "metadata": {},
   "outputs": [
    {
     "data": {
      "text/plain": [
       "(1, 12)"
      ]
     },
     "execution_count": 16,
     "metadata": {},
     "output_type": "execute_result"
    }
   ],
   "source": [
    "count_matrix.shape"
   ]
  },
  {
   "cell_type": "markdown",
   "metadata": {},
   "source": [
    "## CBOW"
   ]
  },
  {
   "cell_type": "code",
   "execution_count": 17,
   "metadata": {},
   "outputs": [],
   "source": [
    "from gensim.sklearn_api import W2VTransformer\n",
    "# Create a model to represent each word by a 10 dimensional vector.\n",
    "model = W2VTransformer(size=10, window = 6, min_count=1, seed=1, sg = 0, hs=1, iter = 10)"
   ]
  },
  {
   "cell_type": "code",
   "execution_count": 18,
   "metadata": {},
   "outputs": [],
   "source": [
    "TerminosDeInteres = ['ai','artificial','intelligence', 'statistics', 'economics', 'mathematics','data', 'scientific', 'reinforcement','learning','mining','processing']\n",
    "wordvecs = model.fit(all_words).transform(TerminosDeInteres)"
   ]
  },
  {
   "cell_type": "code",
   "execution_count": 19,
   "metadata": {},
   "outputs": [],
   "source": [
    "terms = count_vectorizer.get_feature_names()\n",
    "Nt = len(TerminosDeInteres)\n",
    "CountTerminosDeInteres = np.zeros(Nt)\n",
    "for i in range(Nt):\n",
    "    indx = terms.index(TerminosDeInteres[i])\n",
    "    CountTerminosDeInteres[i] = count_matrix[:,indx].sum()"
   ]
  },
  {
   "cell_type": "code",
   "execution_count": 20,
   "metadata": {},
   "outputs": [
    {
     "data": {
      "image/png": "[encoded data removed]",
      "text/plain": [
       "<Figure size 864x864 with 1 Axes>"
      ]
     },
     "metadata": {
      "needs_background": "light"
     },
     "output_type": "display_data"
    }
   ],
   "source": [
    "from sklearn.manifold import MDS\n",
    "embedding = MDS(n_components=2)\n",
    "X_embedded = embedding.fit_transform(wordvecs)\n",
    "fig, ax = plt.subplots(figsize=(12,12))\n",
    "ax.scatter(X_embedded[:,0], X_embedded[:,1], s=CountTerminosDeInteres, alpha=0.3)\n",
    "\n",
    "for i, txt in enumerate(TerminosDeInteres):\n",
    "    ax.annotate(txt, (X_embedded[i,0], X_embedded[i,1]))"
   ]
  },
  {
   "cell_type": "code",
   "execution_count": 21,
   "metadata": {},
   "outputs": [
    {
     "data": {
      "text/plain": [
       "(79468, 84820)"
      ]
     },
     "execution_count": 21,
     "metadata": {},
     "output_type": "execute_result"
    }
   ],
   "source": [
    "#otra aproximación posible\n",
    "from gensim.models import Word2Vec\n",
    "model2 = Word2Vec(\n",
    "        all_words,\n",
    "        size=10,\n",
    "        window=6,\n",
    "        min_count=1,\n",
    "        workers=10)\n",
    "model2.train(all_words, total_examples=len(all_words), epochs=10)"
   ]
  },
  {
   "cell_type": "code",
   "execution_count": 22,
   "metadata": {},
   "outputs": [
    {
     "data": {
      "text/plain": [
       "[('use', 0.9997886419296265),\n",
       " ('risk', 0.9997808933258057),\n",
       " ('systems', 0.9997639656066895),\n",
       " ('humans', 0.999738872051239),\n",
       " ('machines', 0.9997343420982361),\n",
       " ('used', 0.9997258186340332)]"
      ]
     },
     "execution_count": 22,
     "metadata": {},
     "output_type": "execute_result"
    }
   ],
   "source": [
    "model2.wv.most_similar(positive=['intelligence'],topn=6)"
   ]
  },
  {
   "cell_type": "markdown",
   "metadata": {},
   "source": [
    "## Skip-gram"
   ]
  },
  {
   "cell_type": "code",
   "execution_count": 23,
   "metadata": {},
   "outputs": [
    {
     "data": {
      "text/plain": [
       "(79468, 84820)"
      ]
     },
     "execution_count": 23,
     "metadata": {},
     "output_type": "execute_result"
    }
   ],
   "source": [
    "#otra aproximación posible\n",
    "from gensim.models import Word2Vec\n",
    "model2 = Word2Vec(\n",
    "        all_words,\n",
    "        size=10,\n",
    "        window=6,\n",
    "        min_count=1,\n",
    "        sg= 1, #1 for skip-gram; otherwise CBOW\n",
    "        workers=10)\n",
    "model2.train(all_words, total_examples=len(all_words), epochs=10)"
   ]
  },
  {
   "cell_type": "code",
   "execution_count": 24,
   "metadata": {},
   "outputs": [
    {
     "data": {
      "text/plain": [
       "[('ethics', 0.9727962017059326),\n",
       " ('technology', 0.9704883098602295),\n",
       " ('could', 0.9631780982017517),\n",
       " ('learn', 0.960237979888916),\n",
       " ('use', 0.960141658782959),\n",
       " ('end', 0.9571136236190796)]"
      ]
     },
     "execution_count": 24,
     "metadata": {},
     "output_type": "execute_result"
    }
   ],
   "source": [
    "model2.wv.most_similar(positive=['intelligence'],topn=6)"
   ]
  },
  {
   "cell_type": "markdown",
   "metadata": {},
   "source": [
    "It also have options for hierarchical softmax or negative sampling:\n",
    "\n",
    "\n",
    "- **hs** ({0, 1}, optional) – If 1, hierarchical softmax will be used for model training. If 0, and negative is non-zero, negative sampling will be used.\n",
    "- **negative** (int, optional) – If > 0, negative sampling will be used, the int for negative specifies how many “noise words” should be drawn (usually between 5-20). If set to 0, no negative sampling is used."
   ]
  },
  {
   "cell_type": "markdown",
   "metadata": {},
   "source": [
    "### There are other two widely used representations based on Matrix factorization:\n",
    "\n",
    "These methods utilize low-rank approximations to decompose large matrices that\n",
    "capture statistical information about a corpus. That means that this methods are unsupervised in comparison to skip-gram and CBOW that are supervised.\n",
    "\n",
    "- **Latent Semantic Analysis**: Based on tf-idf representation http://lsa.colorado.edu/papers/dp1.LSAintro.pdf\n",
    "\n",
    "- **Global vectos (GoVe)**: Based on the co-occurrence matrix https://nlp.stanford.edu/pubs/glove.pdf"
   ]
  },
  {
   "cell_type": "markdown",
   "metadata": {},
   "source": [
    "## GloVe"
   ]
  },
  {
   "cell_type": "markdown",
   "metadata": {},
   "source": [
    "The following implementation is only for academic purposes."
   ]
  },
  {
   "cell_type": "code",
   "execution_count": 117,
   "metadata": {},
   "outputs": [],
   "source": [
    "import logging\n",
    "\n",
    "from nose.tools import assert_equal, assert_true\n",
    "import numpy as np\n",
    "from numpy.testing import assert_allclose\n",
    "\n",
    "from local.lib.glove import evaluate\n",
    "from local.lib.glove import glove\n",
    "\n",
    "test_corpus = \" \".join([w for w in all_sentences[0].split() if w not in stopwords.words('english')])\n",
    "glove.logger.setLevel(logging.ERROR)\n",
    "vocab = glove.build_vocab(test_corpus.split(\"\\n\"))\n",
    "\n",
    "#Coocurrence matrix\n",
    "cooccur = glove.build_cooccur(vocab, test_corpus.split(\"\\n\"), window_size=10)\n",
    "id2word = evaluate.make_id2word(vocab)\n",
    "\n",
    "W = glove.train_glove(vocab, cooccur, vector_size=10, iterations=50)\n",
    "\n",
    "# Merge and normalize word vectors\n",
    "W = evaluate.merge_main_context(W)"
   ]
  },
  {
   "cell_type": "code",
   "execution_count": 118,
   "metadata": {},
   "outputs": [
    {
     "data": {
      "image/png": "[encoded data removed]",
      "text/plain": [
       "<Figure size 864x864 with 1 Axes>"
      ]
     },
     "metadata": {
      "needs_background": "light"
     },
     "output_type": "display_data"
    }
   ],
   "source": [
    "Nterm = len(TerminosDeInteres)\n",
    "indice = np.zeros(Nterm, dtype=int)\n",
    "for i in range(Nterm):\n",
    "    indice[i] = vocab.get(TerminosDeInteres[i])[0]\n",
    "wordembedding = W[indice,:]\n",
    "\n",
    "fig, ax = plt.subplots(figsize=(12,12))\n",
    "ax.scatter(wordembedding[:,0], wordembedding[:,1], s=CountTerminosDeInteres, alpha=0.3)\n",
    "\n",
    "for i, txt in enumerate(TerminosDeInteres):\n",
    "    ax.annotate(txt, (wordembedding[i,0], wordembedding[i,1]))"
   ]
  },
  {
   "cell_type": "markdown",
   "metadata": {},
   "source": [
    "## Latent semantic analisys"
   ]
  },
  {
   "cell_type": "code",
   "execution_count": 37,
   "metadata": {},
   "outputs": [],
   "source": [
    "from gensim import corpora\n",
    "def prepare_corpus(doc_clean):\n",
    "    \"\"\"\n",
    "    Input  : clean document\n",
    "    Purpose: create term dictionary of our courpus and Converting list of documents (corpus) into Document Term Matrix\n",
    "    Output : term dictionary and Document Term Matrix\n",
    "    \"\"\"\n",
    "    # Creating the term dictionary of our courpus, where every unique term is assigned an index. dictionary = corpora.Dictionary(doc_clean)\n",
    "    dictionary = corpora.Dictionary(doc_clean)\n",
    "    # Converting list of documents (corpus) into Document Term Matrix using dictionary prepared above.\n",
    "    doc_term_matrix = [dictionary.doc2bow(doc) for doc in doc_clean]\n",
    "    # generate LDA model\n",
    "    return dictionary,doc_term_matrix"
   ]
  },
  {
   "cell_type": "code",
   "execution_count": 38,
   "metadata": {},
   "outputs": [],
   "source": [
    "dictionary,doc_term_matrix = prepare_corpus(all_words)"
   ]
  },
  {
   "cell_type": "code",
   "execution_count": 39,
   "metadata": {},
   "outputs": [],
   "source": [
    "#from gensim.test.utils import common_dictionary, common_corpus\n",
    "from gensim.models import LsiModel\n",
    "num_topics = 20\n",
    "model = LsiModel(doc_term_matrix, id2word=dictionary, num_topics = num_topics)\n",
    "#vectorized_corpus = model[common_corpus]  # vectorize input copus in BoW format"
   ]
  },
  {
   "cell_type": "markdown",
   "metadata": {},
   "source": [
    "This technique is able to find similarities between word, sentences, or documents."
   ]
  },
  {
   "cell_type": "code",
   "execution_count": 40,
   "metadata": {},
   "outputs": [],
   "source": [
    "num_topics = 20\n",
    "indices = dictionary.doc2idx(TerminosDeInteres)\n",
    "vec_bow1 = []\n",
    "for i in range(len(TerminosDeInteres)):\n",
    "    vec_bow1.append(dictionary.doc2bow([TerminosDeInteres[i]]))\n",
    "wordembedding=model[vec_bow1]\n",
    "wordvecs = np.zeros((len(TerminosDeInteres),num_topics))\n",
    "for i in range(len(TerminosDeInteres)):\n",
    "    wordvecs[i,:] = np.asarray(wordembedding[i])[:,1].transpose()"
   ]
  },
  {
   "cell_type": "code",
   "execution_count": 42,
   "metadata": {},
   "outputs": [
    {
     "data": {
      "image/png": "[encoded data removed]",
      "text/plain": [
       "<Figure size 720x720 with 1 Axes>"
      ]
     },
     "metadata": {
      "needs_background": "light"
     },
     "output_type": "display_data"
    }
   ],
   "source": [
    "from sklearn.manifold import MDS\n",
    "embedding = MDS(n_components=2)\n",
    "X_embedded = embedding.fit_transform(wordvecs)\n",
    "fig, ax = plt.subplots(figsize=(10,10))\n",
    "ax.scatter(X_embedded[:,0], X_embedded[:,1])\n",
    "\n",
    "for i, txt in enumerate(TerminosDeInteres):\n",
    "    ax.annotate(txt, (X_embedded[i,0], X_embedded[i,1]))"
   ]
  },
  {
   "cell_type": "markdown",
   "metadata": {},
   "source": [
    "## Keras Embedding"
   ]
  },
  {
   "cell_type": "code",
   "execution_count": 44,
   "metadata": {},
   "outputs": [
    {
     "name": "stdout",
     "output_type": "stream",
     "text": [
      "[[[ 0.03990019 -0.01355056  0.00097382 -0.03332471]\n",
      "  [ 0.03445997 -0.00972245  0.03644918  0.04588535]\n",
      "  [-0.03873409  0.04681175 -0.03364088  0.03616143]]]\n"
     ]
    }
   ],
   "source": [
    "from tensorflow.keras.models import Sequential\n",
    "from tensorflow.keras.layers import Embedding\n",
    "model = Sequential()\n",
    "model.add(Embedding(input_dim=1000, output_dim = 4, input_length=3))\n",
    "model.compile(optimizer = 'adam', loss='mse')\n",
    "print(model.predict(np.array([[4,8,3]])))"
   ]
  },
  {
   "cell_type": "markdown",
   "metadata": {},
   "source": [
    "### Transfer learning!\n",
    "\n",
    "The embedding weights can be replaced by pretrained word2vec weights and used into the the network:"
   ]
  },
  {
   "cell_type": "code",
   "execution_count": 46,
   "metadata": {},
   "outputs": [
    {
     "name": "stdout",
     "output_type": "stream",
     "text": [
      "[[[ 2.1831887  -0.15801083 -0.69799757  0.03792069]\n",
      "  [ 1.748921   -1.1833569   0.72401166  0.95015776]\n",
      "  [ 1.790242   -1.7214291   0.52678704  0.27131724]]]\n"
     ]
    }
   ],
   "source": [
    "from tensorflow.keras.models import Model\n",
    "from tensorflow.keras.layers import Input\n",
    "inputs = Input(shape=(3,))\n",
    "e = Embedding(input_dim=100, output_dim = 4, weights = [np.random.normal(0,1,size=(100,4))],trainable = False)(inputs)\n",
    "model = Model(inputs=inputs,outputs=e)\n",
    "model.compile(optimizer = 'adam', loss='mse')\n",
    "print(model.predict(np.array([[4,8,3]])))"
   ]
  },
  {
   "cell_type": "code",
   "execution_count": 47,
   "metadata": {},
   "outputs": [
    {
     "name": "stdout",
     "output_type": "stream",
     "text": [
      "Model: \"model\"\n",
      "_________________________________________________________________\n",
      "Layer (type)                 Output Shape              Param #   \n",
      "=================================================================\n",
      "input_2 (InputLayer)         [(None, 3)]               0         \n",
      "_________________________________________________________________\n",
      "embedding_2 (Embedding)      (None, 3, 4)              400       \n",
      "=================================================================\n",
      "Total params: 400\n",
      "Trainable params: 0\n",
      "Non-trainable params: 400\n",
      "_________________________________________________________________\n"
     ]
    }
   ],
   "source": [
    "model.summary()"
   ]
  },
  {
   "cell_type": "markdown",
   "metadata": {},
   "source": [
    "<div class=\"alert alert-block alert-warning\">\n",
    "\n",
    "Different pretrained GloVe embeddings can be download from [here](https://nlp.stanford.edu/projects/glove/). The lightest file is more than 800 Mb, so a tutorial for its use can be found in the following [link](https://blog.keras.io/using-pre-trained-word-embeddings-in-a-keras-model.html)\n",
    "    \n",
    "</div>    "
   ]
  },
  {
   "cell_type": "code",
   "execution_count": null,
   "metadata": {},
   "outputs": [],
   "source": []
  }
 ],
 "metadata": {
  "kernelspec": {
   "display_name": "Python 3",
   "language": "python",
   "name": "python3"
  },
  "language_info": {
   "codemirror_mode": {
    "name": "ipython",
    "version": 3
   },
   "file_extension": ".py",
   "mimetype": "text/x-python",
   "name": "python",
   "nbconvert_exporter": "python",
   "pygments_lexer": "ipython3",
   "version": "3.7.6"
  }
 },
 "nbformat": 4,
 "nbformat_minor": 2
}
