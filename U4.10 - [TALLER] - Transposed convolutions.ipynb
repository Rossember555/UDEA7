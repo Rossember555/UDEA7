{
 "cells": [
  {
   "cell_type": "code",
   "execution_count": 1,
   "metadata": {},
   "outputs": [],
   "source": [
    "!wget --no-cache -O init.py -q https://raw.githubusercontent.com/rramosp/2020.deeplearning/master/init.py\n",
    "from init import init; init(force_download=False)"
   ]
  },
  {
   "cell_type": "code",
   "execution_count": 1,
   "metadata": {},
   "outputs": [
    {
     "data": {
      "text/plain": [
       "'2.1.0'"
      ]
     },
     "execution_count": 1,
     "metadata": {},
     "output_type": "execute_result"
    }
   ],
   "source": [
    "import sys\n",
    "if 'google.colab' in sys.modules:\n",
    "    print (\"setting tensorflow version in colab\")\n",
    "    %tensorflow_version 2.x\n",
    "    %load_ext tensorboard\n",
    "import tensorflow as tf\n",
    "tf.__version__"
   ]
  },
  {
   "cell_type": "code",
   "execution_count": null,
   "metadata": {},
   "outputs": [],
   "source": []
  },
  {
   "cell_type": "code",
   "execution_count": 3,
   "metadata": {},
   "outputs": [],
   "source": [
    "from time import time\n",
    "import pandas as pd\n",
    "import matplotlib.pyplot as plt\n",
    "import numpy as np\n",
    "from local.lib import mlutils\n",
    "import pickle, bz2\n",
    "import numpy as np\n",
    "%matplotlib inline"
   ]
  },
  {
   "cell_type": "code",
   "execution_count": null,
   "metadata": {},
   "outputs": [],
   "source": []
  },
  {
   "cell_type": "markdown",
   "metadata": {},
   "source": [
    "# Lab: convolution matrix for convolution and transposed convolutions\n",
    "\n",
    "Read and understand well how the convolution matrix is built: [Up-sampling with Transposed Convolution](https://towardsdatascience.com/up-sampling-with-transposed-convolution-9ae4f2df52d0)\n",
    "\n",
    "Observe how a 2d convolution is done with a `tf.layers.conv2d` Keras layer (with linear activation and zero bias)"
   ]
  },
  {
   "cell_type": "code",
   "execution_count": 4,
   "metadata": {},
   "outputs": [
    {
     "data": {
      "text/plain": [
       "<matplotlib.image.AxesImage at 0x7fc1e6ece610>"
      ]
     },
     "execution_count": 4,
     "metadata": {},
     "output_type": "execute_result"
    },
    {
     "data": {
      "image/png": "[encoded data removed]",
      "text/plain": [
       "<Figure size 432x288 with 1 Axes>"
      ]
     },
     "metadata": {
      "needs_background": "light"
     },
     "output_type": "display_data"
    }
   ],
   "source": [
    "simg = np.r_[[[4,5,8,7],[1,8,8,8],[3,6,6,4],[6,5,7,8]]].astype(np.float32)\n",
    "akernel = np.r_[[[1,4,1],[1,4,3],[3,3,1]]]\n",
    "\n",
    "#simg = np.random.randint(10, size=(10,6))\n",
    "#akernel = np.random.randint(10, size=(5,5))+1\n",
    "\n",
    "plt.imshow(simg)"
   ]
  },
  {
   "cell_type": "code",
   "execution_count": 5,
   "metadata": {},
   "outputs": [],
   "source": [
    "c1 = tf.keras.layers.Conv2D(filters=1, kernel_size=akernel.shape, activation=\"linear\")\n",
    "c1.build(input_shape=[None, *simg[:,:,None].shape])\n",
    "w = c1.get_weights()\n",
    "w[0] = akernel[:,:,None, None]\n",
    "c1.set_weights(w)"
   ]
  },
  {
   "cell_type": "code",
   "execution_count": 6,
   "metadata": {},
   "outputs": [
    {
     "name": "stdout",
     "output_type": "stream",
     "text": [
      "[[122. 148.]\n",
      " [126. 134.]]\n"
     ]
    }
   ],
   "source": [
    "routput = c1(simg[None, :, :, None]).numpy()\n",
    "print(routput[0,:,:,0])"
   ]
  },
  {
   "cell_type": "code",
   "execution_count": 7,
   "metadata": {},
   "outputs": [
    {
     "data": {
      "text/plain": [
       "<matplotlib.image.AxesImage at 0x7fc1d4424610>"
      ]
     },
     "execution_count": 7,
     "metadata": {},
     "output_type": "execute_result"
    },
    {
     "data": {
      "image/png": "[encoded data removed]",
      "text/plain": [
       "<Figure size 432x288 with 1 Axes>"
      ]
     },
     "metadata": {
      "needs_background": "light"
     },
     "output_type": "display_data"
    }
   ],
   "source": [
    "plt.imshow(routput[0,:,:,0], cmap=plt.cm.Greys_r)"
   ]
  },
  {
   "cell_type": "markdown",
   "metadata": {},
   "source": [
    "\n",
    "## Task 1: Create the convolution matrix\n",
    "\n",
    "fill in the following function to create a convolution matrix.\n",
    "\n",
    "given:\n",
    "\n",
    "- an input image of dimensions $h\\times w$\n",
    "- a squared filter (kernel) of dimensions $k \\times k$\n",
    "- no padding used\n",
    "\n",
    "the resulting convolution matrix must have dimensions \n",
    "\n",
    "$$(h-k+1)(w-k+1) \\times hw$$\n",
    "\n",
    "suggestions:\n",
    "\n",
    "- start with the same input image and kernel as in the example in [Up-sampling with Transposed Convolution](https://towardsdatascience.com/up-sampling-with-transposed-convolution-9ae4f2df52d0):\n",
    "    \n",
    "       simg = np.r_[[[4,5,8,7],[1,8,8,8],[3,6,6,4],[6,5,7,8]]]\n",
    "       kernel = np.r_[[[1,4,1],[1,4,3],[3,3,1]]]\n",
    "       \n",
    "you should get the following\n",
    "\n",
    "        array([[1., 4., 1., 0., 1., 4., 3., 0., 3., 3., 1., 0., 0., 0., 0., 0.],\n",
    "               [0., 1., 4., 1., 0., 1., 4., 3., 0., 3., 3., 1., 0., 0., 0., 0.],\n",
    "               [0., 0., 0., 0., 1., 4., 1., 0., 1., 4., 3., 0., 3., 3., 1., 0.],\n",
    "               [0., 0., 0., 0., 0., 1., 4., 1., 0., 1., 4., 3., 0., 3., 3., 1.]])\n",
    "       \n",
    "- test with random imgs and kernels (as in the code above) with increasing dimensions and images with different width and height"
   ]
  },
  {
   "cell_type": "code",
   "execution_count": 13,
   "metadata": {},
   "outputs": [],
   "source": [
    "def get_convmatrix(input_shape, kernel):\n",
    "    dx, dy = np.r_[input_shape[0] - kernel.shape[0]+1, input_shape[1] - kernel.shape[1]+1]\n",
    "    cm = np.zeros((np.product(input_shape), dx*dy)).T\n",
    "    cx,cy=0,0\n",
    "    for cx in range(dx):\n",
    "        for cy in range(dy):\n",
    "            for i in range(kernel.shape[1]):\n",
    "                .... # your code here\n",
    "    return cm"
   ]
  },
  {
   "cell_type": "code",
   "execution_count": 14,
   "metadata": {},
   "outputs": [
    {
     "data": {
      "text/plain": [
       "(4, 16)"
      ]
     },
     "execution_count": 14,
     "metadata": {},
     "output_type": "execute_result"
    }
   ],
   "source": [
    "cm = get_convmatrix(simg.shape, akernel)\n",
    "cm.shape"
   ]
  },
  {
   "cell_type": "code",
   "execution_count": 15,
   "metadata": {},
   "outputs": [
    {
     "data": {
      "text/plain": [
       "array([[1., 4., 1., 0., 1., 4., 3., 0., 3., 3., 1., 0., 0., 0., 0., 0.],\n",
       "       [0., 1., 4., 1., 0., 1., 4., 3., 0., 3., 3., 1., 0., 0., 0., 0.],\n",
       "       [0., 0., 0., 0., 1., 4., 1., 0., 1., 4., 3., 0., 3., 3., 1., 0.],\n",
       "       [0., 0., 0., 0., 0., 1., 4., 1., 0., 1., 4., 3., 0., 3., 3., 1.]])"
      ]
     },
     "execution_count": 15,
     "metadata": {},
     "output_type": "execute_result"
    }
   ],
   "source": [
    "cm"
   ]
  },
  {
   "cell_type": "markdown",
   "metadata": {},
   "source": [
    "## Task 2: use the convolution matrix above to make a 2d convolution\n",
    "\n",
    "you must get the same 2x2 result matrix as above"
   ]
  },
  {
   "cell_type": "code",
   "execution_count": 11,
   "metadata": {},
   "outputs": [],
   "source": [
    "def conv2d(img,kernel):\n",
    "    ... # your code here\n",
    "    moutput = ... # your code here\n",
    "    return moutput"
   ]
  },
  {
   "cell_type": "code",
   "execution_count": 12,
   "metadata": {},
   "outputs": [
    {
     "data": {
      "text/plain": [
       "array([[122., 148.],\n",
       "       [126., 134.]])"
      ]
     },
     "execution_count": 12,
     "metadata": {},
     "output_type": "execute_result"
    }
   ],
   "source": [
    "moutput = conv2d(simg, akernel)\n",
    "moutput"
   ]
  },
  {
   "cell_type": "markdown",
   "metadata": {},
   "source": [
    "the following must come out `True`"
   ]
  },
  {
   "cell_type": "code",
   "execution_count": 29,
   "metadata": {},
   "outputs": [
    {
     "data": {
      "text/plain": [
       "True"
      ]
     },
     "execution_count": 29,
     "metadata": {},
     "output_type": "execute_result"
    }
   ],
   "source": [
    "np.allclose(routput, moutput.reshape(routput.shape))"
   ]
  },
  {
   "cell_type": "markdown",
   "metadata": {},
   "source": [
    "## Task 3: make a transposed 2d convolution using `tf.keras.layers.Conv2DTranspose`\n",
    "\n",
    "- Convolution took a 4x4 image into a 2x2 activation map\n",
    "- Transposed convolution will take a 2x2 input image into a 4x4 activation map\n",
    "\n",
    "`small_img` will be our 2x2 input image for the transposed convolution.\n",
    "\n",
    "for `small_img` =\n",
    "\n",
    "        array([[6., 5.],\n",
    "               [3., 5.]], dtype=float32)\n",
    "\n",
    "you must get the following result\n",
    "\n",
    "        array([[ 6., 29., 26.,  5.],\n",
    "               [ 9., 46., 61., 20.],\n",
    "               [21., 50., 50., 20.],\n",
    "               [ 9., 24., 18.,  5.]], dtype=float32)\n"
   ]
  },
  {
   "cell_type": "code",
   "execution_count": 20,
   "metadata": {},
   "outputs": [
    {
     "data": {
      "text/plain": [
       "array([[6., 5.],\n",
       "       [3., 5.]], dtype=float32)"
      ]
     },
     "execution_count": 20,
     "metadata": {},
     "output_type": "execute_result"
    }
   ],
   "source": [
    "small_img = np.array([[6., 5.],[3., 5.]]).astype(np.float32)\n",
    "small_img"
   ]
  },
  {
   "cell_type": "code",
   "execution_count": 21,
   "metadata": {},
   "outputs": [],
   "source": [
    "ct = tf.keras.layers.Conv2DTranspose(... # your code here)\n",
    "# your code here"
   ]
  },
  {
   "cell_type": "code",
   "execution_count": 23,
   "metadata": {},
   "outputs": [
    {
     "data": {
      "text/plain": [
       "array([[ 6., 29., 26.,  5.],\n",
       "       [ 9., 46., 61., 20.],\n",
       "       [21., 50., 50., 20.],\n",
       "       [ 9., 24., 18.,  5.]], dtype=float32)"
      ]
     },
     "execution_count": 23,
     "metadata": {},
     "output_type": "execute_result"
    }
   ],
   "source": [
    "toutput = ct(# your code here).numpy()\n",
    "toutput[0,:,:,0]"
   ]
  },
  {
   "cell_type": "markdown",
   "metadata": {},
   "source": [
    "## Task 4: Make a transposed 2d convolution using the convolution matrix above\n",
    "\n",
    "your result must be exactly the same as the previous task"
   ]
  },
  {
   "cell_type": "code",
   "execution_count": 50,
   "metadata": {},
   "outputs": [],
   "source": [
    "def conv2d_transpose(img, kernel):\n",
    "    # your code here\n",
    "    return # your code here"
   ]
  },
  {
   "cell_type": "code",
   "execution_count": 51,
   "metadata": {},
   "outputs": [
    {
     "data": {
      "text/plain": [
       "array([[ 6., 29., 26.,  5.],\n",
       "       [ 9., 46., 61., 20.],\n",
       "       [21., 50., 50., 20.],\n",
       "       [ 9., 24., 18.,  5.]])"
      ]
     },
     "execution_count": 51,
     "metadata": {},
     "output_type": "execute_result"
    }
   ],
   "source": [
    "moutput = conv2d_transpose(small_img, akernel)\n",
    "moutput"
   ]
  },
  {
   "cell_type": "code",
   "execution_count": 53,
   "metadata": {},
   "outputs": [
    {
     "data": {
      "text/plain": [
       "True"
      ]
     },
     "execution_count": 53,
     "metadata": {},
     "output_type": "execute_result"
    }
   ],
   "source": [
    "np.allclose(toutput[0,:,:,0], moutput )"
   ]
  },
  {
   "cell_type": "code",
   "execution_count": null,
   "metadata": {},
   "outputs": [],
   "source": []
  }
 ],
 "metadata": {
  "kernelspec": {
   "display_name": "p37",
   "language": "python",
   "name": "p37"
  },
  "language_info": {
   "codemirror_mode": {
    "name": "ipython",
    "version": 3
   },
   "file_extension": ".py",
   "mimetype": "text/x-python",
   "name": "python",
   "nbconvert_exporter": "python",
   "pygments_lexer": "ipython3",
   "version": "3.7.6"
  }
 },
 "nbformat": 4,
 "nbformat_minor": 2
}
