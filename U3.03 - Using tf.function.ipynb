{
 "cells": [
  {
   "cell_type": "code",
   "execution_count": null,
   "metadata": {},
   "outputs": [],
   "source": [
    "!wget --no-cache -O init.py -q https://raw.githubusercontent.com/rramosp/2020.deeplearning/master/init.py\n",
    "from init import init; init(force_download=False)"
   ]
  },
  {
   "cell_type": "code",
   "execution_count": 1,
   "metadata": {},
   "outputs": [
    {
     "data": {
      "text/plain": [
       "'2.1.0'"
      ]
     },
     "execution_count": 1,
     "metadata": {},
     "output_type": "execute_result"
    }
   ],
   "source": [
    "try:\n",
    "    %tensorflow_version 2.x\n",
    "    print (\"Using TF2 in Google Colab\")\n",
    "except:\n",
    "    pass\n",
    "import numpy as np\n",
    "import tensorflow as tf\n",
    "import matplotlib.pyplot as plt\n",
    "%matplotlib inline\n",
    "%load_ext tensorboard\n",
    "\n",
    "from sklearn.datasets import *\n",
    "from local.lib import mlutils\n",
    "tf.__version__"
   ]
  },
  {
   "cell_type": "markdown",
   "metadata": {},
   "source": [
    "#  `tf.function` \n",
    "\n",
    "## automatically converts pythonic code to a computational graph, using Tensors"
   ]
  },
  {
   "cell_type": "code",
   "execution_count": 2,
   "metadata": {},
   "outputs": [
    {
     "data": {
      "text/plain": [
       "10"
      ]
     },
     "execution_count": 2,
     "metadata": {},
     "output_type": "execute_result"
    }
   ],
   "source": [
    "def f(x):\n",
    "    return x**2 + x*3\n",
    "f(2)"
   ]
  },
  {
   "cell_type": "code",
   "execution_count": 3,
   "metadata": {},
   "outputs": [
    {
     "data": {
      "text/plain": [
       "<tf.Tensor: shape=(), dtype=int32, numpy=10>"
      ]
     },
     "execution_count": 3,
     "metadata": {},
     "output_type": "execute_result"
    }
   ],
   "source": [
    "@tf.function\n",
    "def f(x):\n",
    "    return x**2 + x*3\n",
    "f(2)"
   ]
  },
  {
   "cell_type": "markdown",
   "metadata": {},
   "source": [
    "and also works with a symbolic tensor"
   ]
  },
  {
   "cell_type": "code",
   "execution_count": 4,
   "metadata": {},
   "outputs": [
    {
     "data": {
      "text/plain": [
       "<tf.Tensor: shape=(), dtype=float32, numpy=18.0>"
      ]
     },
     "execution_count": 4,
     "metadata": {},
     "output_type": "execute_result"
    }
   ],
   "source": [
    "x = tf.Variable(3.)\n",
    "f(x)"
   ]
  },
  {
   "cell_type": "markdown",
   "metadata": {},
   "source": [
    "a `tf.function` is **traced** (converted to computation graph) the first time it is executed, then it is cached"
   ]
  },
  {
   "cell_type": "code",
   "execution_count": 5,
   "metadata": {},
   "outputs": [],
   "source": [
    "@tf.function\n",
    "def f47(x):\n",
    "    print('Tracing!')\n",
    "    tf.print('Executing')  \n",
    "    return x**2 + x*47"
   ]
  },
  {
   "cell_type": "code",
   "execution_count": 6,
   "metadata": {},
   "outputs": [
    {
     "name": "stdout",
     "output_type": "stream",
     "text": [
      "Tracing!\n",
      "Executing\n"
     ]
    },
    {
     "data": {
      "text/plain": [
       "<tf.Tensor: shape=(), dtype=int32, numpy=98>"
      ]
     },
     "execution_count": 6,
     "metadata": {},
     "output_type": "execute_result"
    }
   ],
   "source": [
    "f47(2)"
   ]
  },
  {
   "cell_type": "code",
   "execution_count": 7,
   "metadata": {},
   "outputs": [
    {
     "name": "stdout",
     "output_type": "stream",
     "text": [
      "Executing\n"
     ]
    },
    {
     "data": {
      "text/plain": [
       "<tf.Tensor: shape=(), dtype=int32, numpy=98>"
      ]
     },
     "execution_count": 7,
     "metadata": {},
     "output_type": "execute_result"
    }
   ],
   "source": [
    "f47(2)"
   ]
  },
  {
   "cell_type": "markdown",
   "metadata": {},
   "source": [
    "observe that if the type changes, the function is **traced** again since a different computational graph must be created"
   ]
  },
  {
   "cell_type": "code",
   "execution_count": 8,
   "metadata": {},
   "outputs": [
    {
     "name": "stdout",
     "output_type": "stream",
     "text": [
      "Tracing!\n",
      "Executing\n"
     ]
    },
    {
     "data": {
      "text/plain": [
       "<tf.Tensor: shape=(), dtype=float32, numpy=103.11>"
      ]
     },
     "execution_count": 8,
     "metadata": {},
     "output_type": "execute_result"
    }
   ],
   "source": [
    "f47(2.1)"
   ]
  },
  {
   "cell_type": "markdown",
   "metadata": {},
   "source": [
    "observe the actual generated code by `tf.autograph`"
   ]
  },
  {
   "cell_type": "code",
   "execution_count": 9,
   "metadata": {
    "scrolled": true
   },
   "outputs": [
    {
     "name": "stdout",
     "output_type": "stream",
     "text": [
      "def tf__f47(x):\n",
      "  do_return = False\n",
      "  retval_ = ag__.UndefinedReturnValue()\n",
      "  with ag__.FunctionScope('f47', 'fscope', ag__.ConversionOptions(recursive=True, user_requested=True, optional_features=(), internal_convert_user_code=True)) as fscope:\n",
      "    print('Tracing!')\n",
      "    ag__.converted_call(tf.print, ('Executing',), None, fscope)\n",
      "    do_return = True\n",
      "    retval_ = fscope.mark_return_value(x ** 2 + x * 47)\n",
      "  do_return,\n",
      "  return ag__.retval(retval_)\n",
      "\n"
     ]
    }
   ],
   "source": [
    "print(tf.autograph.to_code(f47.python_function))\n"
   ]
  },
  {
   "cell_type": "markdown",
   "metadata": {},
   "source": [
    "## performance of `tf.function`"
   ]
  },
  {
   "cell_type": "code",
   "execution_count": 10,
   "metadata": {},
   "outputs": [],
   "source": [
    "x = tf.Variable(7.0)\n",
    "@tf.function\n",
    "def f1(x):\n",
    "    \n",
    "    def ff1(x):\n",
    "        return x**2+x*3\n",
    "    \n",
    "    return ff1(x)"
   ]
  },
  {
   "cell_type": "code",
   "execution_count": 11,
   "metadata": {},
   "outputs": [],
   "source": [
    "def f2(xval):\n",
    "    \n",
    "    @tf.function\n",
    "    def ff2(x):\n",
    "        return x**2+x*3\n",
    "\n",
    "    return ff2(xval)"
   ]
  },
  {
   "cell_type": "code",
   "execution_count": 12,
   "metadata": {},
   "outputs": [],
   "source": [
    "@tf.function\n",
    "def f3(x):\n",
    "    return x**2+x*3"
   ]
  },
  {
   "cell_type": "code",
   "execution_count": 13,
   "metadata": {},
   "outputs": [],
   "source": [
    "@tf.function\n",
    "def f3(x):\n",
    "    return tf.pow(x,2)+tf.multiply(x,3)\n",
    "\n",
    "def f4(x):\n",
    "    return x**2 + x*3\n"
   ]
  },
  {
   "cell_type": "code",
   "execution_count": 14,
   "metadata": {},
   "outputs": [
    {
     "data": {
      "text/plain": [
       "(<tf.Tensor: shape=(), dtype=float32, numpy=130.0>,\n",
       " <tf.Tensor: shape=(), dtype=float32, numpy=130.0>,\n",
       " <tf.Tensor: shape=(), dtype=float32, numpy=130.0>,\n",
       " 130.0)"
      ]
     },
     "execution_count": 14,
     "metadata": {},
     "output_type": "execute_result"
    }
   ],
   "source": [
    "f1(10.), f2(10.), f3(10.), f4(10.)"
   ]
  },
  {
   "cell_type": "code",
   "execution_count": 15,
   "metadata": {},
   "outputs": [
    {
     "name": "stdout",
     "output_type": "stream",
     "text": [
      "90.9 µs ± 6.91 µs per loop (mean ± std. dev. of 7 runs, 10000 loops each)\n"
     ]
    }
   ],
   "source": [
    "%timeit f1(10.)"
   ]
  },
  {
   "cell_type": "code",
   "execution_count": 16,
   "metadata": {},
   "outputs": [
    {
     "name": "stdout",
     "output_type": "stream",
     "text": [
      "3.11 ms ± 169 µs per loop (mean ± std. dev. of 7 runs, 100 loops each)\n"
     ]
    }
   ],
   "source": [
    "%timeit f2(10.)"
   ]
  },
  {
   "cell_type": "code",
   "execution_count": 17,
   "metadata": {},
   "outputs": [
    {
     "name": "stdout",
     "output_type": "stream",
     "text": [
      "152 µs ± 28.4 µs per loop (mean ± std. dev. of 7 runs, 10000 loops each)\n"
     ]
    }
   ],
   "source": [
    "%timeit f3(10.)"
   ]
  },
  {
   "cell_type": "code",
   "execution_count": 18,
   "metadata": {},
   "outputs": [
    {
     "name": "stdout",
     "output_type": "stream",
     "text": [
      "59.2 µs ± 2.65 µs per loop (mean ± std. dev. of 7 runs, 10000 loops each)\n"
     ]
    }
   ],
   "source": [
    "%timeit f3.python_function(10.)"
   ]
  },
  {
   "cell_type": "code",
   "execution_count": 19,
   "metadata": {},
   "outputs": [
    {
     "name": "stdout",
     "output_type": "stream",
     "text": [
      "208 ns ± 20.2 ns per loop (mean ± std. dev. of 7 runs, 1000000 loops each)\n"
     ]
    }
   ],
   "source": [
    "%timeit f4(10.)"
   ]
  },
  {
   "cell_type": "markdown",
   "metadata": {},
   "source": [
    "## Underlying `concrete` functions are actual TF graphs with no polymorphism, tied to specific input types\n",
    "\n",
    "`tf.function` maps python polymorphism to a set of different underlying concrete functions"
   ]
  },
  {
   "cell_type": "code",
   "execution_count": 20,
   "metadata": {},
   "outputs": [],
   "source": [
    "@tf.function\n",
    "def f(x):\n",
    "    return x+x"
   ]
  },
  {
   "cell_type": "code",
   "execution_count": 21,
   "metadata": {},
   "outputs": [
    {
     "data": {
      "text/plain": [
       "(<tf.Tensor: shape=(), dtype=int32, numpy=20>,\n",
       " <tf.Tensor: shape=(), dtype=int32, numpy=20>,\n",
       " <tf.Tensor: shape=(), dtype=string, numpy=b'aa'>)"
      ]
     },
     "execution_count": 21,
     "metadata": {},
     "output_type": "execute_result"
    }
   ],
   "source": [
    "f(10), f(10.), f(\"a\")"
   ]
  },
  {
   "cell_type": "markdown",
   "metadata": {},
   "source": [
    "observe different hash codes for each concrete function"
   ]
  },
  {
   "cell_type": "code",
   "execution_count": 22,
   "metadata": {},
   "outputs": [
    {
     "data": {
      "text/plain": [
       "(<tensorflow.python.eager.function.ConcreteFunction at 0x7f164c415ed0>,\n",
       " <tf.Tensor: shape=(), dtype=string, numpy=b'aaaa'>)"
      ]
     },
     "execution_count": 22,
     "metadata": {},
     "output_type": "execute_result"
    }
   ],
   "source": [
    "fs = f.get_concrete_function(tf.TensorSpec(shape=None, dtype=tf.string))\n",
    "fs, fs(tf.constant(\"aa\"))"
   ]
  },
  {
   "cell_type": "code",
   "execution_count": 23,
   "metadata": {},
   "outputs": [
    {
     "data": {
      "text/plain": [
       "(<tensorflow.python.eager.function.ConcreteFunction at 0x7f164c3ff1d0>,\n",
       " <tf.Tensor: shape=(), dtype=int32, numpy=2>)"
      ]
     },
     "execution_count": 23,
     "metadata": {},
     "output_type": "execute_result"
    }
   ],
   "source": [
    "fi = f.get_concrete_function(tf.TensorSpec(shape=None, dtype=tf.int32))\n",
    "fi, fi(tf.constant(1))"
   ]
  },
  {
   "cell_type": "code",
   "execution_count": 24,
   "metadata": {},
   "outputs": [
    {
     "data": {
      "text/plain": [
       "(<tensorflow.python.eager.function.ConcreteFunction at 0x7f164c45e9d0>,\n",
       " <tf.Tensor: shape=(), dtype=float32, numpy=2.0>)"
      ]
     },
     "execution_count": 24,
     "metadata": {},
     "output_type": "execute_result"
    }
   ],
   "source": [
    "ff = f.get_concrete_function(tf.TensorSpec(shape=None, dtype=tf.float32))\n",
    "ff, ff(tf.constant(1.))"
   ]
  },
  {
   "cell_type": "markdown",
   "metadata": {},
   "source": [
    "## `tf.function` with `keras` layers"
   ]
  },
  {
   "cell_type": "code",
   "execution_count": 25,
   "metadata": {},
   "outputs": [
    {
     "data": {
      "text/plain": [
       "array([[ 1.76405235,  0.40015721],\n",
       "       [ 0.97873798,  2.2408932 ],\n",
       "       [ 1.86755799, -0.97727788]])"
      ]
     },
     "execution_count": 25,
     "metadata": {},
     "output_type": "execute_result"
    }
   ],
   "source": [
    "import numpy as np\n",
    "np.random.seed(0)\n",
    "data = np.random.randn(3, 2)\n",
    "data"
   ]
  },
  {
   "cell_type": "code",
   "execution_count": 26,
   "metadata": {},
   "outputs": [],
   "source": [
    "inputer = tf.keras.layers.InputLayer(input_shape=(2))\n",
    "denser1 = tf.keras.layers.Dense(4, activation='relu')\n",
    "denser2 = tf.keras.layers.Dense(1, activation='sigmoid')"
   ]
  },
  {
   "cell_type": "markdown",
   "metadata": {},
   "source": [
    "observe that, in eager mode, layers graphs are created as their code is being executed"
   ]
  },
  {
   "cell_type": "code",
   "execution_count": 27,
   "metadata": {},
   "outputs": [
    {
     "name": "stdout",
     "output_type": "stream",
     "text": [
      "After the first layer: tf.Tensor(\n",
      "[[0.         0.         0.72397983 0.        ]\n",
      " [0.         0.         1.0945917  0.        ]\n",
      " [0.02641147 0.         0.28564313 0.        ]], shape=(3, 4), dtype=float32)\n",
      "After the second layer: tf.Tensor(\n",
      "[[0.63380146]\n",
      " [0.69622225]\n",
      " [0.5481096 ]], shape=(3, 1), dtype=float32)\n",
      "Model output:\n",
      " tf.Tensor(\n",
      "[[0.63380146]\n",
      " [0.69622225]\n",
      " [0.5481096 ]], shape=(3, 1), dtype=float32)\n",
      "--\n",
      "After the first layer: tf.Tensor(\n",
      "[[0.         0.         0.72397983 0.        ]\n",
      " [0.         0.         1.0945917  0.        ]\n",
      " [0.02641147 0.         0.28564313 0.        ]], shape=(3, 4), dtype=float32)\n",
      "After the second layer: tf.Tensor(\n",
      "[[0.63380146]\n",
      " [0.69622225]\n",
      " [0.5481096 ]], shape=(3, 1), dtype=float32)\n",
      "Model output:\n",
      " tf.Tensor(\n",
      "[[0.63380146]\n",
      " [0.69622225]\n",
      " [0.5481096 ]], shape=(3, 1), dtype=float32)\n"
     ]
    }
   ],
   "source": [
    "def model_1(data):\n",
    "    x = inputer(data)\n",
    "    x = denser1(x)\n",
    "    print('After the first layer:', x)\n",
    "    out = denser2(x)\n",
    "    print('After the second layer:', out)\n",
    "    return out\n",
    "\n",
    "print('Model output:\\n', model_1(data))\n",
    "print(\"--\")\n",
    "print('Model output:\\n', model_1(data))"
   ]
  },
  {
   "cell_type": "markdown",
   "metadata": {},
   "source": [
    "however, with `tf.function`, **FIRST** the function is **traced** resulting in a computational graph, which is what is **THEN** used in subsequent calls"
   ]
  },
  {
   "cell_type": "code",
   "execution_count": 28,
   "metadata": {},
   "outputs": [
    {
     "name": "stdout",
     "output_type": "stream",
     "text": [
      "After the first layer: Tensor(\"dense/Relu:0\", shape=(3, 4), dtype=float32)\n",
      "After the second layer: Tensor(\"dense_1/Sigmoid:0\", shape=(3, 1), dtype=float32)\n",
      "Model's output: tf.Tensor(\n",
      "[[0.63380146]\n",
      " [0.69622225]\n",
      " [0.5481096 ]], shape=(3, 1), dtype=float32)\n",
      "--\n",
      "Model's output: tf.Tensor(\n",
      "[[0.63380146]\n",
      " [0.69622225]\n",
      " [0.5481096 ]], shape=(3, 1), dtype=float32)\n"
     ]
    }
   ],
   "source": [
    "@tf.function\n",
    "def model_2(data):\n",
    "    x = inputer(data)\n",
    "    x = denser1(x)\n",
    "    print('After the first layer:', x)\n",
    "    out = denser2(x)\n",
    "    print('After the second layer:', out)\n",
    "    return out\n",
    "\n",
    "\n",
    "print('Model\\'s output:', model_2(data))\n",
    "print('--')\n",
    "print('Model\\'s output:', model_2(data))"
   ]
  },
  {
   "cell_type": "markdown",
   "metadata": {},
   "source": [
    "`tf.function` usually requires less compute time, since in eager mode, everytime the function is called the graph is created"
   ]
  },
  {
   "cell_type": "code",
   "execution_count": 29,
   "metadata": {},
   "outputs": [],
   "source": [
    "def model_1(data):\n",
    "    x = inputer(data)\n",
    "    x = denser1(x)\n",
    "    out = denser2(x)\n",
    "    return out\n",
    "\n",
    "@tf.function\n",
    "def model_2(data):\n",
    "    x = inputer(data)\n",
    "    x = denser1(x)\n",
    "    out = denser2(x)\n",
    "    return out"
   ]
  },
  {
   "cell_type": "code",
   "execution_count": 30,
   "metadata": {},
   "outputs": [
    {
     "name": "stdout",
     "output_type": "stream",
     "text": [
      "622 µs ± 13.1 µs per loop (mean ± std. dev. of 7 runs, 1000 loops each)\n"
     ]
    }
   ],
   "source": [
    "%timeit model_1(data)"
   ]
  },
  {
   "cell_type": "code",
   "execution_count": 31,
   "metadata": {},
   "outputs": [
    {
     "name": "stdout",
     "output_type": "stream",
     "text": [
      "225 µs ± 29.6 µs per loop (mean ± std. dev. of 7 runs, 1000 loops each)\n"
     ]
    }
   ],
   "source": [
    "%timeit model_2(data)"
   ]
  },
  {
   "cell_type": "markdown",
   "metadata": {},
   "source": [
    "### including graphs in upstream functions. \n",
    "\n",
    "observe how we compute the gradient of a computational graph:\n",
    "\n",
    "- with `model_1` the graph is generated eagerly each time the function is called\n",
    "- with `model_2` the graph is only generated in the first call"
   ]
  },
  {
   "cell_type": "code",
   "execution_count": 32,
   "metadata": {},
   "outputs": [
    {
     "data": {
      "text/plain": [
       "([<tf.Tensor: shape=(2, 4), dtype=float32, numpy=\n",
       "  array([[-0.40976173,  0.        ,  0.81755775,  0.        ],\n",
       "         [ 0.21442497,  0.        ,  0.24607055,  0.        ]],\n",
       "        dtype=float32)>,\n",
       "  <tf.Tensor: shape=(4,), dtype=float32, numpy=array([-0.21941043,  0.        ,  0.52378285,  0.        ], dtype=float32)>],\n",
       " [<tf.Tensor: shape=(2, 4), dtype=float32, numpy=\n",
       "  array([[-0.40976173,  0.        ,  0.81755775,  0.        ],\n",
       "         [ 0.21442497,  0.        ,  0.24607055,  0.        ]],\n",
       "        dtype=float32)>,\n",
       "  <tf.Tensor: shape=(4,), dtype=float32, numpy=array([-0.21941043,  0.        ,  0.52378285,  0.        ], dtype=float32)>])"
      ]
     },
     "execution_count": 32,
     "metadata": {},
     "output_type": "execute_result"
    }
   ],
   "source": [
    "def g1(data):\n",
    "    with tf.GradientTape() as t:\n",
    "        y = model_1(data)\n",
    "\n",
    "    return t.gradient(y, denser1.variables)\n",
    "\n",
    "def g2(data):\n",
    "    with tf.GradientTape() as t:\n",
    "        y = model_2(data)\n",
    "\n",
    "    return t.gradient(y, denser1.variables)\n",
    "\n",
    "g2(data), g1(data)\n",
    "\n"
   ]
  },
  {
   "cell_type": "code",
   "execution_count": 33,
   "metadata": {},
   "outputs": [
    {
     "name": "stdout",
     "output_type": "stream",
     "text": [
      "1.25 ms ± 139 µs per loop (mean ± std. dev. of 7 runs, 1000 loops each)\n"
     ]
    }
   ],
   "source": [
    "%timeit g1(data)"
   ]
  },
  {
   "cell_type": "code",
   "execution_count": 34,
   "metadata": {},
   "outputs": [
    {
     "name": "stdout",
     "output_type": "stream",
     "text": [
      "676 µs ± 65.7 µs per loop (mean ± std. dev. of 7 runs, 1000 loops each)\n"
     ]
    }
   ],
   "source": [
    "%timeit g2(data)"
   ]
  },
  {
   "cell_type": "markdown",
   "metadata": {},
   "source": [
    "however, even in `g2` the gradient graph is still computed eagerly.\n",
    "\n",
    "if we wrap either function, now everything is a cached computational graph."
   ]
  },
  {
   "cell_type": "code",
   "execution_count": 35,
   "metadata": {},
   "outputs": [
    {
     "name": "stdout",
     "output_type": "stream",
     "text": [
      "198 µs ± 6.95 µs per loop (mean ± std. dev. of 7 runs, 1000 loops each)\n"
     ]
    }
   ],
   "source": [
    "fg1 = tf.function(g1)\n",
    "%timeit fg1(data)"
   ]
  },
  {
   "cell_type": "code",
   "execution_count": 36,
   "metadata": {},
   "outputs": [
    {
     "name": "stdout",
     "output_type": "stream",
     "text": [
      "226 µs ± 44.7 µs per loop (mean ± std. dev. of 7 runs, 1000 loops each)\n"
     ]
    }
   ],
   "source": [
    "fg2 = tf.function(g2)\n",
    "%timeit fg2(data)"
   ]
  },
  {
   "cell_type": "code",
   "execution_count": null,
   "metadata": {},
   "outputs": [],
   "source": []
  }
 ],
 "metadata": {
  "kernelspec": {
   "display_name": "p37",
   "language": "python",
   "name": "p37"
  },
  "language_info": {
   "codemirror_mode": {
    "name": "ipython",
    "version": 3
   },
   "file_extension": ".py",
   "mimetype": "text/x-python",
   "name": "python",
   "nbconvert_exporter": "python",
   "pygments_lexer": "ipython3",
   "version": "3.7.5"
  }
 },
 "nbformat": 4,
 "nbformat_minor": 2
}
