{
 "cells": [
  {
   "cell_type": "code",
   "execution_count": 1,
   "metadata": {},
   "outputs": [],
   "source": [
    "!wget --no-cache -O init.py -q https://raw.githubusercontent.com/rramosp/2020.deeplearning/master/init.py\n",
    "from init import init; init(force_download=False)"
   ]
  },
  {
   "cell_type": "code",
   "execution_count": 2,
   "metadata": {},
   "outputs": [
    {
     "data": {
      "text/plain": [
       "'2.0.0'"
      ]
     },
     "execution_count": 2,
     "metadata": {},
     "output_type": "execute_result"
    }
   ],
   "source": [
    "import sys\n",
    "if 'google.colab' in sys.modules:\n",
    "    print (\"setting tensorflow version in colab\")\n",
    "    %tensorflow_version 2.x\n",
    "import tensorflow as tf\n",
    "tf.__version__"
   ]
  },
  {
   "cell_type": "code",
   "execution_count": 10,
   "metadata": {},
   "outputs": [],
   "source": [
    "import numpy as np\n",
    "import matplotlib.pyplot as plt\n",
    "import pandas as pd\n",
    "import itertools\n",
    "from IPython.display import Image\n",
    "\n",
    "%matplotlib inline"
   ]
  },
  {
   "cell_type": "code",
   "execution_count": 6,
   "metadata": {},
   "outputs": [
    {
     "name": "stdout",
     "output_type": "stream",
     "text": [
      "dimension de las imagenes y las clases (1500, 784) (1500,)\n"
     ]
    }
   ],
   "source": [
    "mnist = pd.read_csv(\"local/data/mnist1.5k.csv.gz\", compression=\"gzip\", header=None).values\n",
    "X=mnist[:,1:785]/255.\n",
    "y=mnist[:,0]\n",
    "print (\"dimension de las imagenes y las clases\", X.shape, y.shape)"
   ]
  },
  {
   "cell_type": "code",
   "execution_count": 7,
   "metadata": {},
   "outputs": [
    {
     "name": "stdout",
     "output_type": "stream",
     "text": [
      "(300, 784) (300, 10) (1200, 784) (1200, 10)\n"
     ]
    }
   ],
   "source": [
    "X_train, X_test, y_train, y_test = X[:300], X[300:], y[:300], y[300:]\n",
    "y_train_oh = np.eye(10)[y_train]\n",
    "y_test_oh  = np.eye(10)[y_test]\n",
    "print (X_train.shape, y_train_oh.shape,  X_test.shape, y_test_oh.shape)"
   ]
  },
  {
   "cell_type": "markdown",
   "metadata": {},
   "source": [
    "## Network architectures lab\n",
    "\n",
    "\n",
    "from the notes we have two architectures:\n",
    "    \n",
    "- **A**: Three layer network accepting a 784 element vector as input and outputing a 10-class vector\n",
    "- **B**: Same as **A** but accepts an additional 2 element vector with _evenness_ information that is injected at the third layer.\n",
    "\n",
    "This lab requires you to do two things:\n",
    "\n",
    "**1**. Create a **C** architecture similar to **B** but where the 2 element vector is injected at the second layer. This will make the network have 41,650 parameters, distributed in the following way:\n",
    "   \n",
    "   \n",
    "\n",
    "        INPUT 1 to LAYER 1:              784*50 + 50 (bias) = 39250\n",
    "        LAYER 1 to LAYER 2:               50*30 + 30 (bias) = 1530\n",
    "        LAYER 2 + INPUT 2 to LAYER 3: (30+2)*20 + 20 (bias) = 660\n",
    "        LAYER 3 to OUTPUT:                20*10 + 10 (bias) = 210\n",
    "    \n",
    "                                                       TOTAL 41650\n",
    "                                                       \n",
    "**2**. Run an experimental setup where you train different network configurations and measure the accuracy on test data. Fix the number of neurons to 50, 30 and 20 for each layer and the following combination of parameters:\n",
    "\n",
    "- For architecture **A** (3 configurations)\n",
    "\n",
    "    `s3_activation` $\\in$ `[\"linear\", \"relu\", \"tanh\"]`\n",
    "\n",
    "- For architectures **B** and **C** (15 configurations for each architecture)\n",
    "\n",
    "    `s3_activation` $\\in$ `[\"linear\", \"relu\", \"tanh\"]`\n",
    "    \n",
    "    `k1,k2` $\\in$ `[(0,1), (-.5,2),(-.5,30), (0,15),(0,30)]`\n",
    "\n",
    "And create a heat map showing the accuracy in test obtained for each configuration, such as the following (your results should be approximate to this):"
   ]
  },
  {
   "cell_type": "code",
   "execution_count": 11,
   "metadata": {},
   "outputs": [
    {
     "data": {
      "image/png": "[encoded data removed]",
      "text/plain": [
       "<IPython.core.display.Image object>"
      ]
     },
     "execution_count": 11,
     "metadata": {},
     "output_type": "execute_result"
    }
   ],
   "source": [
    "Image(filename='local/imgs/mm_results_1.png')"
   ]
  },
  {
   "cell_type": "markdown",
   "metadata": {},
   "source": [
    "And two bar plots with the average per architecture and k1,k2 configuration, such as the following (again, your results should be approximetely similar):"
   ]
  },
  {
   "cell_type": "code",
   "execution_count": 12,
   "metadata": {
    "scrolled": true
   },
   "outputs": [
    {
     "data": {
      "image/png": "[encoded data removed]",
      "text/plain": [
       "<IPython.core.display.Image object>"
      ]
     },
     "execution_count": 12,
     "metadata": {},
     "output_type": "execute_result"
    }
   ],
   "source": [
    "Image(filename='local/imgs/mm_results_2.png')"
   ]
  },
  {
   "cell_type": "code",
   "execution_count": null,
   "metadata": {},
   "outputs": [],
   "source": []
  },
  {
   "cell_type": "markdown",
   "metadata": {},
   "source": [
    "### Model definitions"
   ]
  },
  {
   "cell_type": "code",
   "execution_count": 13,
   "metadata": {},
   "outputs": [],
   "source": [
    "from tensorflow.keras import Sequential, Model\n",
    "from tensorflow.keras.layers import Dense, Dropout, Flatten, concatenate, Input\n",
    "from tensorflow.keras.backend import clear_session"
   ]
  },
  {
   "cell_type": "code",
   "execution_count": 14,
   "metadata": {},
   "outputs": [],
   "source": [
    "def get_model_A(input_dim, s1, s2, s3, s3_activation=\"relu\"):\n",
    "    clear_session()\n",
    "    model = Sequential()\n",
    "    model.add(Dense(s1, activation='relu', input_dim=input_dim))\n",
    "    model.add(Dense(s2, activation='relu'))\n",
    "    model.add(Dense(s3, activation=s3_activation))\n",
    "    model.add(Dense(10, activation='sigmoid'))\n",
    "\n",
    "    model.compile(optimizer='adam', loss='categorical_crossentropy')\n",
    "    model.reset_states()\n",
    "    return model"
   ]
  },
  {
   "cell_type": "code",
   "execution_count": 15,
   "metadata": {},
   "outputs": [],
   "source": [
    "def get_model_B(input_dim, extra_info_dim,  s1, s2, s3, s3_activation=\"relu\"):\n",
    "    clear_session()\n",
    "    inp1 = Input(shape=(input_dim,))\n",
    "    inp2 = Input(shape=(extra_info_dim,))\n",
    "    l11 = Dense(s1, activation=\"relu\")(inp1)\n",
    "    l12 = Dense(s2, activation=\"relu\")(l11)\n",
    "    l13 = Dense(s3, activation=s3_activation)(l12)\n",
    "    \n",
    "    cc1 = concatenate([l13, inp2],axis=1) # Merge row, same column\n",
    "    output = Dense(10, activation='sigmoid')(cc1)\n",
    "    model = Model(inputs=[inp1, inp2], outputs=output)\n",
    "    model.compile(optimizer='adam', loss='categorical_crossentropy')\n",
    "    model.reset_states()\n",
    "    return model "
   ]
  },
  {
   "cell_type": "code",
   "execution_count": 16,
   "metadata": {},
   "outputs": [],
   "source": [
    "def get_model_C(input_dim, extra_info_dim, s1, s2, s3, s3_activation=\"relu\"):\n",
    "    clear_session()\n",
    "    inp1 = Input(shape=(input_dim,))\n",
    "    inp2 = Input(shape=(extra_info_dim,))\n",
    "    l11 = Dense(s1, activation=\"relu\")(inp1)\n",
    "    l12 = Dense(s2, activation=\"relu\")(l11)\n",
    "    \n",
    "    cc1 = concatenate([l12, inp2],axis=1)\n",
    "    \n",
    "    cc2 = Dense(s3, activation=s3_activation)(cc1)\n",
    "    output = Dense(10, activation='sigmoid')(cc2)\n",
    "    model = Model(inputs=[inp1, inp2], outputs=output)\n",
    "    model.compile(optimizer='adam', loss='categorical_crossentropy')\n",
    "    model.reset_states()\n",
    "    return model"
   ]
  },
  {
   "cell_type": "code",
   "execution_count": 17,
   "metadata": {},
   "outputs": [],
   "source": [
    "def get_X_extra(y_train, y_test, k0, k1):\n",
    "    X_train_extra = (np.eye(2)[y_train%2]+k0)*k1\n",
    "    X_test_extra  = (np.eye(2)[y_test%2]+k0)*k1\n",
    "    return X_train_extra, X_test_extra"
   ]
  },
  {
   "cell_type": "markdown",
   "metadata": {},
   "source": [
    "### Use the following dataframe to record your data "
   ]
  },
  {
   "cell_type": "code",
   "execution_count": 18,
   "metadata": {},
   "outputs": [],
   "source": [
    "k_set     = [(0,1), (-.5,2),(-.5,30), (0,15),(0,30), None]\n",
    "act_set   = [\"linear\", \"relu\", \"tanh\"]\n",
    "arch_set  = [\"A\", \"B\", \"C\"]\n",
    "\n",
    "\n",
    "r_test = pd.DataFrame(np.zeros((len(arch_set)*len(act_set), len(k_set)))*np.nan, \n",
    "                      index=[[a+\"-\"+b for a,b in itertools.product (arch_set, act_set)]],\n",
    "                      columns=[str(i) for i in k_set])\n",
    "r_train = r_test.copy()"
   ]
  },
  {
   "cell_type": "markdown",
   "metadata": {},
   "source": [
    "### Build a loop over the configurations"
   ]
  },
  {
   "cell_type": "code",
   "execution_count": 21,
   "metadata": {},
   "outputs": [
    {
     "name": "stdout",
     "output_type": "stream",
     "text": [
      "    (0, 1)   linear B train 1.000, test 0.795\n",
      "    (0, 1)   linear C train 1.000, test 0.830\n",
      "    (0, 1)     relu B train 1.000, test 0.828\n",
      "    (0, 1)     relu C train 1.000, test 0.801\n",
      "    (0, 1)     tanh B train 1.000, test 0.806\n",
      "    (0, 1)     tanh C train 1.000, test 0.823\n",
      " (-0.5, 2)   linear B train 1.000, test 0.816\n",
      " (-0.5, 2)   linear C train 1.000, test 0.818\n",
      " (-0.5, 2)     relu B train 1.000, test 0.820\n",
      " (-0.5, 2)     relu C train 1.000, test 0.828\n",
      " (-0.5, 2)     tanh B train 1.000, test 0.843\n",
      " (-0.5, 2)     tanh C train 1.000, test 0.813\n",
      "(-0.5, 30)   linear B train 0.997, test 0.824\n",
      "(-0.5, 30)   linear C train 1.000, test 0.852\n",
      "(-0.5, 30)     relu B train 1.000, test 0.846\n",
      "(-0.5, 30)     relu C train 1.000, test 0.856\n",
      "(-0.5, 30)     tanh B train 0.000, test 0.003\n",
      "(-0.5, 30)     tanh C train 1.000, test 0.855\n",
      "   (0, 15)   linear B train 1.000, test 0.860\n",
      "   (0, 15)   linear C train 1.000, test 0.852\n",
      "   (0, 15)     relu B train 1.000, test 0.862\n",
      "   (0, 15)     relu C train 1.000, test 0.878\n",
      "   (0, 15)     tanh B train 1.000, test 0.839\n",
      "   (0, 15)     tanh C train 1.000, test 0.881\n",
      "   (0, 30)   linear B train 1.000, test 0.858\n",
      "   (0, 30)   linear C train 1.000, test 0.871\n",
      "   (0, 30)     relu B train 1.000, test 0.851\n",
      "   (0, 30)     relu C train 1.000, test 0.897\n",
      "   (0, 30)     tanh B train 1.000, test 0.866\n",
      "   (0, 30)     tanh C train 1.000, test 0.848\n",
      "      None   linear A train 1.000, test 0.822\n",
      "      None     relu A train 1.000, test 0.798\n",
      "      None     tanh A train 1.000, test 0.792\n"
     ]
    }
   ],
   "source": [
    "for k, act, arch in itertools.product(k_set, act_set, arch_set):\n",
    "    if not pd.isna(r_test.loc[arch+\"-\"+act][str(k)][0]):\n",
    "        print (\"%10s %8s %1s\"%(str(k), act, arch), \"already computed\")\n",
    "        continue\n",
    "        \n",
    "    if arch == \"A\" and k is None:\n",
    "        print (\"%10s %8s %1s\"%(str(k), act, arch), end = \" \")\n",
    "        model = get_model_A(input_dim=X.shape[1], s1=50, s2=30, s3=20, s3_activation=act)\n",
    "        model.fit(X_train, y_train_oh, epochs=200, batch_size=16, verbose=0)        \n",
    "        preds_train = model.predict(X_train).argmax(axis=1)\n",
    "        preds_test = model.predict(X_test).argmax(axis=1)\n",
    "        acc_train = np.mean(preds_train==y_train)\n",
    "        acc_test  = np.mean(preds_test==y_test)\n",
    "        r_test.at[arch+\"-\"+act, str(k)] =  acc_test\n",
    "        r_train.at[arch+\"-\"+act, str(k)] =  acc_train\n",
    "        print (\"train %.3f, test %.3f\"%(acc_train, acc_test))\n",
    "    elif arch in [\"B\", \"C\"] and k is not None:\n",
    "        print (\"%10s %8s %1s\"%(str(k), act, arch), end=\" \")\n",
    "        X_train_extra, X_test_extra = get_X_extra(y_train, y_test, k[0], k[1])\n",
    "        if arch==\"B\":\n",
    "            model = get_model_B(input_dim=X.shape[1], s1=50, s2=30, s3=20, s3_activation=act, extra_info_dim=X_train_extra.shape[1])\n",
    "        if arch==\"C\":\n",
    "            model = get_model_C(input_dim=X.shape[1], s1=50, s2=30, s3=20, s3_activation=act, extra_info_dim=X_train_extra.shape[1])\n",
    "        model.fit([X_train, X_train_extra], y_train_oh, epochs=200, batch_size=16, verbose=0)        \n",
    "        preds_train = model.predict([X_train, X_train_extra]).argmax(axis=1)\n",
    "        preds_test = model.predict([X_test, X_test_extra]).argmax(axis=1)\n",
    "        acc_train = np.mean(preds_train==y_train)\n",
    "        acc_test  = np.mean(preds_test==y_test)\n",
    "        r_test.at[arch+\"-\"+act, str(k)] =  acc_test\n",
    "        r_train.at[arch+\"-\"+act, str(k)] =  acc_train\n",
    "        print (\"train %.3f, test %.3f\"%(acc_train, acc_test))\n",
    "\n"
   ]
  },
  {
   "cell_type": "code",
   "execution_count": 22,
   "metadata": {},
   "outputs": [
    {
     "data": {
      "text/html": [
       "<div>\n",
       "<style scoped>\n",
       "    .dataframe tbody tr th:only-of-type {\n",
       "        vertical-align: middle;\n",
       "    }\n",
       "\n",
       "    .dataframe tbody tr th {\n",
       "        vertical-align: top;\n",
       "    }\n",
       "\n",
       "    .dataframe thead th {\n",
       "        text-align: right;\n",
       "    }\n",
       "</style>\n",
       "<table border=\"1\" class=\"dataframe\">\n",
       "  <thead>\n",
       "    <tr style=\"text-align: right;\">\n",
       "      <th></th>\n",
       "      <th>(0, 1)</th>\n",
       "      <th>(-0.5, 2)</th>\n",
       "      <th>(-0.5, 30)</th>\n",
       "      <th>(0, 15)</th>\n",
       "      <th>(0, 30)</th>\n",
       "      <th>None</th>\n",
       "    </tr>\n",
       "  </thead>\n",
       "  <tbody>\n",
       "    <tr>\n",
       "      <th>A-linear</th>\n",
       "      <td>NaN</td>\n",
       "      <td>NaN</td>\n",
       "      <td>NaN</td>\n",
       "      <td>NaN</td>\n",
       "      <td>NaN</td>\n",
       "      <td>0.821667</td>\n",
       "    </tr>\n",
       "    <tr>\n",
       "      <th>A-relu</th>\n",
       "      <td>NaN</td>\n",
       "      <td>NaN</td>\n",
       "      <td>NaN</td>\n",
       "      <td>NaN</td>\n",
       "      <td>NaN</td>\n",
       "      <td>0.798333</td>\n",
       "    </tr>\n",
       "    <tr>\n",
       "      <th>A-tanh</th>\n",
       "      <td>NaN</td>\n",
       "      <td>NaN</td>\n",
       "      <td>NaN</td>\n",
       "      <td>NaN</td>\n",
       "      <td>NaN</td>\n",
       "      <td>0.792500</td>\n",
       "    </tr>\n",
       "    <tr>\n",
       "      <th>B-linear</th>\n",
       "      <td>0.795000</td>\n",
       "      <td>0.815833</td>\n",
       "      <td>0.824167</td>\n",
       "      <td>0.860000</td>\n",
       "      <td>0.857500</td>\n",
       "      <td>NaN</td>\n",
       "    </tr>\n",
       "    <tr>\n",
       "      <th>B-relu</th>\n",
       "      <td>0.828333</td>\n",
       "      <td>0.820000</td>\n",
       "      <td>0.845833</td>\n",
       "      <td>0.861667</td>\n",
       "      <td>0.850833</td>\n",
       "      <td>NaN</td>\n",
       "    </tr>\n",
       "    <tr>\n",
       "      <th>B-tanh</th>\n",
       "      <td>0.805833</td>\n",
       "      <td>0.843333</td>\n",
       "      <td>0.003333</td>\n",
       "      <td>0.839167</td>\n",
       "      <td>0.865833</td>\n",
       "      <td>NaN</td>\n",
       "    </tr>\n",
       "    <tr>\n",
       "      <th>C-linear</th>\n",
       "      <td>0.830000</td>\n",
       "      <td>0.817500</td>\n",
       "      <td>0.851667</td>\n",
       "      <td>0.851667</td>\n",
       "      <td>0.870833</td>\n",
       "      <td>NaN</td>\n",
       "    </tr>\n",
       "    <tr>\n",
       "      <th>C-relu</th>\n",
       "      <td>0.800833</td>\n",
       "      <td>0.827500</td>\n",
       "      <td>0.855833</td>\n",
       "      <td>0.878333</td>\n",
       "      <td>0.896667</td>\n",
       "      <td>NaN</td>\n",
       "    </tr>\n",
       "    <tr>\n",
       "      <th>C-tanh</th>\n",
       "      <td>0.823333</td>\n",
       "      <td>0.813333</td>\n",
       "      <td>0.855000</td>\n",
       "      <td>0.880833</td>\n",
       "      <td>0.847500</td>\n",
       "      <td>NaN</td>\n",
       "    </tr>\n",
       "  </tbody>\n",
       "</table>\n",
       "</div>"
      ],
      "text/plain": [
       "            (0, 1)  (-0.5, 2)  (-0.5, 30)   (0, 15)   (0, 30)      None\n",
       "A-linear       NaN        NaN         NaN       NaN       NaN  0.821667\n",
       "A-relu         NaN        NaN         NaN       NaN       NaN  0.798333\n",
       "A-tanh         NaN        NaN         NaN       NaN       NaN  0.792500\n",
       "B-linear  0.795000   0.815833    0.824167  0.860000  0.857500       NaN\n",
       "B-relu    0.828333   0.820000    0.845833  0.861667  0.850833       NaN\n",
       "B-tanh    0.805833   0.843333    0.003333  0.839167  0.865833       NaN\n",
       "C-linear  0.830000   0.817500    0.851667  0.851667  0.870833       NaN\n",
       "C-relu    0.800833   0.827500    0.855833  0.878333  0.896667       NaN\n",
       "C-tanh    0.823333   0.813333    0.855000  0.880833  0.847500       NaN"
      ]
     },
     "execution_count": 22,
     "metadata": {},
     "output_type": "execute_result"
    }
   ],
   "source": [
    "r_test"
   ]
  },
  {
   "cell_type": "markdown",
   "metadata": {},
   "source": [
    "### Build the heatmap"
   ]
  },
  {
   "cell_type": "code",
   "execution_count": 23,
   "metadata": {},
   "outputs": [
    {
     "data": {
      "image/png": "[encoded data removed]",
      "text/plain": [
       "<Figure size 576x216 with 2 Axes>"
      ]
     },
     "metadata": {
      "needs_background": "light"
     },
     "output_type": "display_data"
    }
   ],
   "source": [
    "plt.figure(figsize=(8,3))\n",
    "cax = plt.imshow(r_test.T)\n",
    "plt.yticks(range(len(r_test.columns)), r_test.columns)\n",
    "plt.xticks(range(len(r_test.index)), r_test.index, rotation=\"vertical\");\n",
    "ticks = np.linspace(np.nanmin(r_test.values), np.nanmax(r_test.values), 5)\n",
    "cbar = plt.colorbar(cax, ticks=ticks)\n",
    "cbar.ax.set_yticklabels([\"%.2f\"%i for i in ticks]);    \n",
    "plt.title(\"test accuracy\");"
   ]
  },
  {
   "cell_type": "markdown",
   "metadata": {},
   "source": [
    "### Build the bar plots"
   ]
  },
  {
   "cell_type": "code",
   "execution_count": 24,
   "metadata": {},
   "outputs": [
    {
     "data": {
      "text/plain": [
       "Text(0, 0.5, 'mean accuracy')"
      ]
     },
     "execution_count": 24,
     "metadata": {},
     "output_type": "execute_result"
    },
    {
     "data": {
      "image/png": "[encoded data removed]",
      "text/plain": [
       "<Figure size 1080x288 with 2 Axes>"
      ]
     },
     "metadata": {
      "needs_background": "light"
     },
     "output_type": "display_data"
    }
   ],
   "source": [
    "plt.figure(figsize=(15,4))\n",
    "plt.subplot(121)\n",
    "r_test[\"arch\"] = [i[0].split(\"-\")[0] for i in r_test.index]\n",
    "bars = r_test.groupby(\"arch\").mean().T.mean()\n",
    "plt.bar(range(len(bars)), bars.values)\n",
    "plt.xticks(range(len(bars)), [\"arch %s\"%i for i in bars.index])\n",
    "plt.ylim(.75,.9)\n",
    "plt.ylabel(\"mean accuracy\")\n",
    "plt.subplot(122)\n",
    "bars = r_test.mean()\n",
    "plt.bar(range(len(bars)), bars.values)\n",
    "plt.xticks(range(len(bars)), [\"k1,k2 = %s\"%str(i) for i in bars.index], rotation=\"vertical\")\n",
    "plt.ylim(.75, .95)\n",
    "plt.ylabel(\"mean accuracy\")"
   ]
  },
  {
   "cell_type": "code",
   "execution_count": null,
   "metadata": {},
   "outputs": [],
   "source": []
  }
 ],
 "metadata": {
  "kernelspec": {
   "display_name": "p37",
   "language": "python",
   "name": "p37"
  },
  "language_info": {
   "codemirror_mode": {
    "name": "ipython",
    "version": 3
   },
   "file_extension": ".py",
   "mimetype": "text/x-python",
   "name": "python",
   "nbconvert_exporter": "python",
   "pygments_lexer": "ipython3",
   "version": "3.7.3"
  }
 },
 "nbformat": 4,
 "nbformat_minor": 2
}
